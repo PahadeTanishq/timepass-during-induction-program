{
 "cells": [
  {
   "cell_type": "markdown",
   "id": "f89019f4-1cd7-4666-8965-0a70eeca1087",
   "metadata": {},
   "source": [
    "# 20/08/2024"
   ]
  },
  {
   "cell_type": "code",
   "execution_count": null,
   "id": "2899f98f-3c26-4d11-a422-99232e5d8cc3",
   "metadata": {},
   "outputs": [],
   "source": []
  },
  {
   "cell_type": "code",
   "execution_count": 24,
   "id": "d5514e1d-84ca-454a-a7a3-07c54a51e8c4",
   "metadata": {},
   "outputs": [],
   "source": [
    "l=[10,'bye',50.65]"
   ]
  },
  {
   "cell_type": "code",
   "execution_count": 26,
   "id": "c7d39ee9-9be1-4936-a790-5959c29a0101",
   "metadata": {},
   "outputs": [
    {
     "data": {
      "text/plain": [
       "['bye', 50.65]"
      ]
     },
     "execution_count": 26,
     "metadata": {},
     "output_type": "execute_result"
    }
   ],
   "source": [
    "l[1:]"
   ]
  },
  {
   "cell_type": "code",
   "execution_count": 28,
   "id": "233a4036-5779-48b7-a87b-88d4bc9f34d4",
   "metadata": {},
   "outputs": [],
   "source": [
    "l[1:] = 'ADP'"
   ]
  },
  {
   "cell_type": "code",
   "execution_count": 32,
   "id": "23a6fe87-719e-4907-89c6-cbe4308acb87",
   "metadata": {},
   "outputs": [
    {
     "data": {
      "text/plain": [
       "[10, 'A', 'D', 'P']"
      ]
     },
     "execution_count": 32,
     "metadata": {},
     "output_type": "execute_result"
    }
   ],
   "source": [
    "l"
   ]
  },
  {
   "cell_type": "code",
   "execution_count": null,
   "id": "8b9c5819-3df9-4961-b0dd-308b5227f25b",
   "metadata": {},
   "outputs": [],
   "source": []
  },
  {
   "cell_type": "code",
   "execution_count": 50,
   "id": "c82c4bb8-92b7-417d-8bca-fd4154bd4a19",
   "metadata": {},
   "outputs": [],
   "source": [
    "s=[]  #----# this is called an empty list-- a list with no elements.."
   ]
  },
  {
   "cell_type": "code",
   "execution_count": 52,
   "id": "3236ef7c-9bcd-4ca6-8547-96fab92ea214",
   "metadata": {},
   "outputs": [
    {
     "data": {
      "text/plain": [
       "list"
      ]
     },
     "execution_count": 52,
     "metadata": {},
     "output_type": "execute_result"
    }
   ],
   "source": [
    "type(s)"
   ]
  },
  {
   "cell_type": "code",
   "execution_count": 54,
   "id": "7d2726f8-6f9e-4c15-90b6-ce9d6c7c9b52",
   "metadata": {},
   "outputs": [
    {
     "data": {
      "text/plain": [
       "[]"
      ]
     },
     "execution_count": 54,
     "metadata": {},
     "output_type": "execute_result"
    }
   ],
   "source": [
    "s"
   ]
  },
  {
   "cell_type": "code",
   "execution_count": 74,
   "id": "455e7b68-0569-487a-930e-083bff9c4fc7",
   "metadata": {},
   "outputs": [],
   "source": [
    "l=['hi',10,[25.0,'hello','e','l','l',78]] #----- list inside list nested...."
   ]
  },
  {
   "cell_type": "code",
   "execution_count": 66,
   "id": "86337021-10a3-4b16-bd5a-bceddd89b722",
   "metadata": {},
   "outputs": [],
   "source": [
    "# how to grab l,l"
   ]
  },
  {
   "cell_type": "code",
   "execution_count": 68,
   "id": "02c99597-eb96-46f1-9f51-f915e6ec4b59",
   "metadata": {},
   "outputs": [
    {
     "data": {
      "text/plain": [
       "[25.0, 'hello', 'e', 'l', 'l', 78]"
      ]
     },
     "execution_count": 68,
     "metadata": {},
     "output_type": "execute_result"
    }
   ],
   "source": [
    "l[2]"
   ]
  },
  {
   "cell_type": "code",
   "execution_count": 72,
   "id": "3334aba0-2571-4f50-abf8-047db2fb4964",
   "metadata": {},
   "outputs": [
    {
     "data": {
      "text/plain": [
       "['l', 'l']"
      ]
     },
     "execution_count": 72,
     "metadata": {},
     "output_type": "execute_result"
    }
   ],
   "source": [
    "l[2][3:4+1]"
   ]
  },
  {
   "cell_type": "code",
   "execution_count": 76,
   "id": "8f7fa9e0-890e-4474-9120-add64b1a1273",
   "metadata": {},
   "outputs": [],
   "source": [
    "a=['PPL',[10,[80.5,'college',[78,'ADP',90.5]]]]"
   ]
  },
  {
   "cell_type": "code",
   "execution_count": 86,
   "id": "9ac82b12-0e5b-40e4-a56f-836e14495a65",
   "metadata": {},
   "outputs": [
    {
     "data": {
      "text/plain": [
       "[10, [80.5, 'college', [78, 'ADP', 90.5]]]"
      ]
     },
     "execution_count": 86,
     "metadata": {},
     "output_type": "execute_result"
    }
   ],
   "source": [
    "a[1]"
   ]
  },
  {
   "cell_type": "code",
   "execution_count": 88,
   "id": "fa6a960b-2889-41d8-8284-9201fcd25f27",
   "metadata": {},
   "outputs": [
    {
     "data": {
      "text/plain": [
       "[80.5, 'college', [78, 'ADP', 90.5]]"
      ]
     },
     "execution_count": 88,
     "metadata": {},
     "output_type": "execute_result"
    }
   ],
   "source": [
    "a[1][1]"
   ]
  },
  {
   "cell_type": "code",
   "execution_count": 90,
   "id": "f47b4ebc-7695-4494-b9b8-2c3de8e08a71",
   "metadata": {},
   "outputs": [
    {
     "data": {
      "text/plain": [
       "[78, 'ADP', 90.5]"
      ]
     },
     "execution_count": 90,
     "metadata": {},
     "output_type": "execute_result"
    }
   ],
   "source": [
    "a[1][1][2]"
   ]
  },
  {
   "cell_type": "code",
   "execution_count": 92,
   "id": "0e8d916b-79aa-4fdd-a31c-0d371f978897",
   "metadata": {},
   "outputs": [
    {
     "data": {
      "text/plain": [
       "'DP'"
      ]
     },
     "execution_count": 92,
     "metadata": {},
     "output_type": "execute_result"
    }
   ],
   "source": [
    "a[1][1][2][1][1:]"
   ]
  },
  {
   "cell_type": "code",
   "execution_count": null,
   "id": "41ee713e-bfe8-42df-84d9-dde17c34888f",
   "metadata": {},
   "outputs": [],
   "source": []
  },
  {
   "cell_type": "raw",
   "id": "fbcbf3d4-5af1-4b46-9647-6cd2585754d9",
   "metadata": {},
   "source": [
    "# #tuples:-- \n"
   ]
  },
  {
   "cell_type": "code",
   "execution_count": 25,
   "id": "9d0ab522-2109-4273-91e1-1a98a7fec4b5",
   "metadata": {},
   "outputs": [],
   "source": [
    "# ()\n",
    "# [int,float,str,list,tup]\n",
    "# ordered-- we can index/position an element inside tuples\n",
    "# immutuable---we can't change an element inside tuples"
   ]
  },
  {
   "cell_type": "code",
   "execution_count": 5,
   "id": "233364ea-cad5-4b19-aebd-44b5bd1b5acd",
   "metadata": {},
   "outputs": [],
   "source": [
    "t=()"
   ]
  },
  {
   "cell_type": "code",
   "execution_count": 7,
   "id": "c8733da1-c03a-4f0f-986c-d9cc7a7dcbf5",
   "metadata": {},
   "outputs": [
    {
     "data": {
      "text/plain": [
       "tuple"
      ]
     },
     "execution_count": 7,
     "metadata": {},
     "output_type": "execute_result"
    }
   ],
   "source": [
    "type(t)"
   ]
  },
  {
   "cell_type": "code",
   "execution_count": 9,
   "id": "1ecc1bcc-4255-428a-bbe1-886370c15dec",
   "metadata": {},
   "outputs": [
    {
     "data": {
      "text/plain": [
       "()"
      ]
     },
     "execution_count": 9,
     "metadata": {},
     "output_type": "execute_result"
    }
   ],
   "source": [
    "t"
   ]
  },
  {
   "cell_type": "code",
   "execution_count": 11,
   "id": "5a064e2c-47e6-4402-8e48-ca1b69f71ae9",
   "metadata": {},
   "outputs": [],
   "source": [
    "t=(120,'list',80.5,'str')"
   ]
  },
  {
   "cell_type": "code",
   "execution_count": 13,
   "id": "44daacd6-cadd-4ee6-bc9c-a2301457179f",
   "metadata": {},
   "outputs": [
    {
     "data": {
      "text/plain": [
       "(120, 'list', 80.5, 'str')"
      ]
     },
     "execution_count": 13,
     "metadata": {},
     "output_type": "execute_result"
    }
   ],
   "source": [
    "t"
   ]
  },
  {
   "cell_type": "code",
   "execution_count": 17,
   "id": "050ad67e-845c-41c9-8366-c9459aee98bc",
   "metadata": {},
   "outputs": [
    {
     "data": {
      "text/plain": [
       "'st'"
      ]
     },
     "execution_count": 17,
     "metadata": {},
     "output_type": "execute_result"
    }
   ],
   "source": [
    "t[3][0:2]"
   ]
  },
  {
   "cell_type": "code",
   "execution_count": 19,
   "id": "fd8acc7d-670b-4217-959d-87b4ff0a98ee",
   "metadata": {},
   "outputs": [
    {
     "ename": "TypeError",
     "evalue": "'str' object does not support item assignment",
     "output_type": "error",
     "traceback": [
      "\u001b[1;31m---------------------------------------------------------------------------\u001b[0m",
      "\u001b[1;31mTypeError\u001b[0m                                 Traceback (most recent call last)",
      "Cell \u001b[1;32mIn[19], line 1\u001b[0m\n\u001b[1;32m----> 1\u001b[0m t[\u001b[38;5;241m3\u001b[39m][\u001b[38;5;241m0\u001b[39m:\u001b[38;5;241m2\u001b[39m] \u001b[38;5;241m=\u001b[39m \u001b[38;5;124m'\u001b[39m\u001b[38;5;124mc\u001b[39m\u001b[38;5;124m'\u001b[39m\n",
      "\u001b[1;31mTypeError\u001b[0m: 'str' object does not support item assignment"
     ]
    }
   ],
   "source": [
    "t[3][0:2] = 'c'"
   ]
  },
  {
   "cell_type": "code",
   "execution_count": 21,
   "id": "e3ebb088-75a4-480f-a547-1b5f78833c15",
   "metadata": {},
   "outputs": [
    {
     "data": {
      "text/plain": [
       "120"
      ]
     },
     "execution_count": 21,
     "metadata": {},
     "output_type": "execute_result"
    }
   ],
   "source": [
    "t[0]"
   ]
  },
  {
   "cell_type": "code",
   "execution_count": 23,
   "id": "ab3c201c-ed6c-4333-a19b-f53fdd719221",
   "metadata": {},
   "outputs": [
    {
     "ename": "TypeError",
     "evalue": "'tuple' object does not support item assignment",
     "output_type": "error",
     "traceback": [
      "\u001b[1;31m---------------------------------------------------------------------------\u001b[0m",
      "\u001b[1;31mTypeError\u001b[0m                                 Traceback (most recent call last)",
      "Cell \u001b[1;32mIn[23], line 1\u001b[0m\n\u001b[1;32m----> 1\u001b[0m t[\u001b[38;5;241m0\u001b[39m] \u001b[38;5;241m=\u001b[39m \u001b[38;5;241m50\u001b[39m\n",
      "\u001b[1;31mTypeError\u001b[0m: 'tuple' object does not support item assignment"
     ]
    }
   ],
   "source": [
    "t[0] = 50"
   ]
  },
  {
   "cell_type": "code",
   "execution_count": null,
   "id": "24468745-04e1-45ff-ad39-dd0253c17e6e",
   "metadata": {},
   "outputs": [],
   "source": []
  },
  {
   "cell_type": "code",
   "execution_count": 65,
   "id": "62ecac9d-51cb-413f-8abb-685fe54240b2",
   "metadata": {},
   "outputs": [],
   "source": [
    "l=[10,[56.7,'hello',(90.8,[(10.5,'MHCET',0)],78.09)]] #--- hamesha solve karte samay brackets par dhyaan dena jaruri hai.."
   ]
  },
  {
   "cell_type": "code",
   "execution_count": 31,
   "id": "6979baee-b90f-4a61-87e9-1620dbadc891",
   "metadata": {},
   "outputs": [
    {
     "data": {
      "text/plain": [
       "list"
      ]
     },
     "execution_count": 31,
     "metadata": {},
     "output_type": "execute_result"
    }
   ],
   "source": [
    "type(l)"
   ]
  },
  {
   "cell_type": "code",
   "execution_count": 33,
   "id": "a3ad7ffb-19c7-4fb0-b168-1c8699826be6",
   "metadata": {},
   "outputs": [
    {
     "data": {
      "text/plain": [
       "[56.7, 'hello', (90.8, [(10.5, 'MHCET', 0)], 78.09)]"
      ]
     },
     "execution_count": 33,
     "metadata": {},
     "output_type": "execute_result"
    }
   ],
   "source": [
    "l[1]"
   ]
  },
  {
   "cell_type": "code",
   "execution_count": 37,
   "id": "75990e05-2e54-404d-84cf-b4e92cec2590",
   "metadata": {},
   "outputs": [
    {
     "data": {
      "text/plain": [
       "(90.8, [(10.5, 'MHCET', 0)], 78.09)"
      ]
     },
     "execution_count": 37,
     "metadata": {},
     "output_type": "execute_result"
    }
   ],
   "source": [
    "l[1][2]"
   ]
  },
  {
   "cell_type": "code",
   "execution_count": 67,
   "id": "645be64c-ca6b-454d-a854-d250998e087c",
   "metadata": {},
   "outputs": [
    {
     "data": {
      "text/plain": [
       "[(10.5, 'MHCET', 0)]"
      ]
     },
     "execution_count": 67,
     "metadata": {},
     "output_type": "execute_result"
    }
   ],
   "source": [
    "l[1][2][1] #-- yaha par zero position me tuple hai so isliye zero lihha hai..."
   ]
  },
  {
   "cell_type": "code",
   "execution_count": 59,
   "id": "04d3948e-8f9d-474d-b833-0654a66f0d46",
   "metadata": {},
   "outputs": [
    {
     "data": {
      "text/plain": [
       "(10.5, 'MHCET', 0)"
      ]
     },
     "execution_count": 59,
     "metadata": {},
     "output_type": "execute_result"
    }
   ],
   "source": [
    "l[1][2][1][0]"
   ]
  },
  {
   "cell_type": "code",
   "execution_count": 61,
   "id": "52fcdd3c-82e0-443b-a63e-5e4da2692562",
   "metadata": {},
   "outputs": [
    {
     "data": {
      "text/plain": [
       "'MHCET'"
      ]
     },
     "execution_count": 61,
     "metadata": {},
     "output_type": "execute_result"
    }
   ],
   "source": [
    "l[1][2][1][0][1]"
   ]
  },
  {
   "cell_type": "code",
   "execution_count": 63,
   "id": "90f19b27-c459-4189-9f65-8d4e3d7b3dad",
   "metadata": {},
   "outputs": [
    {
     "data": {
      "text/plain": [
       "'CET'"
      ]
     },
     "execution_count": 63,
     "metadata": {},
     "output_type": "execute_result"
    }
   ],
   "source": [
    "l[1][2][1][0][1][2:]"
   ]
  },
  {
   "cell_type": "code",
   "execution_count": null,
   "id": "bebf09c5-2a3b-4bc0-ad10-25a97b35a5b5",
   "metadata": {},
   "outputs": [],
   "source": []
  },
  {
   "cell_type": "code",
   "execution_count": 69,
   "id": "2fbecf3a-862c-4229-b260-f36b2e339f55",
   "metadata": {},
   "outputs": [
    {
     "data": {
      "text/plain": [
       "[10, [56.7, 'hello', (90.8, [(10.5, 'MHCET', 0)], 78.09)]]"
      ]
     },
     "execution_count": 69,
     "metadata": {},
     "output_type": "execute_result"
    }
   ],
   "source": [
    "l"
   ]
  },
  {
   "cell_type": "code",
   "execution_count": 77,
   "id": "17995f3d-3b10-4411-9ed8-a7ab4a36d09c",
   "metadata": {},
   "outputs": [],
   "source": [
    "l[1][1] = 'bye'"
   ]
  },
  {
   "cell_type": "code",
   "execution_count": 79,
   "id": "918c856d-0716-4669-a02c-8222088afd8c",
   "metadata": {},
   "outputs": [
    {
     "data": {
      "text/plain": [
       "[10, [56.7, 'bye', (90.8, [(10.5, 'MHCET', 0)], 78.09)]]"
      ]
     },
     "execution_count": 79,
     "metadata": {},
     "output_type": "execute_result"
    }
   ],
   "source": [
    "l"
   ]
  },
  {
   "cell_type": "code",
   "execution_count": 85,
   "id": "43cd5286-471a-43c6-948d-fa5b11a06981",
   "metadata": {},
   "outputs": [],
   "source": [
    "l = [10,'hello',54.6]"
   ]
  },
  {
   "cell_type": "code",
   "execution_count": null,
   "id": "ee088efc-1e6d-41ae-aa2c-47f364cc0528",
   "metadata": {},
   "outputs": [],
   "source": [
    "# Exploraing libraries of lists:----"
   ]
  },
  {
   "cell_type": "code",
   "execution_count": 94,
   "id": "0f98af5a-69d8-434b-a0b3-e494fae441de",
   "metadata": {},
   "outputs": [],
   "source": [
    "l.clear()"
   ]
  },
  {
   "cell_type": "code",
   "execution_count": 98,
   "id": "e9f6b8c9-dce2-4df9-8125-24e233a96154",
   "metadata": {},
   "outputs": [
    {
     "data": {
      "text/plain": [
       "[]"
      ]
     },
     "execution_count": 98,
     "metadata": {},
     "output_type": "execute_result"
    }
   ],
   "source": [
    "l #--- remove kar diya isliye blank aya"
   ]
  },
  {
   "cell_type": "code",
   "execution_count": 100,
   "id": "486d76e4-0c21-48e8-bd84-8c6e3307b9cd",
   "metadata": {},
   "outputs": [],
   "source": [
    "l.append('hello')"
   ]
  },
  {
   "cell_type": "code",
   "execution_count": 102,
   "id": "c96cc394-20df-48cb-a3f4-f81180ad3716",
   "metadata": {},
   "outputs": [
    {
     "data": {
      "text/plain": [
       "['hello']"
      ]
     },
     "execution_count": 102,
     "metadata": {},
     "output_type": "execute_result"
    }
   ],
   "source": [
    "l"
   ]
  },
  {
   "cell_type": "code",
   "execution_count": null,
   "id": "f441a808-7c5d-442c-b452-f8b77a3873a2",
   "metadata": {},
   "outputs": [],
   "source": []
  },
  {
   "cell_type": "code",
   "execution_count": 104,
   "id": "7638a49b-3742-464e-9b79-8e4d4e30f28a",
   "metadata": {},
   "outputs": [],
   "source": [
    "l=[10,202,52,43,69]"
   ]
  },
  {
   "cell_type": "code",
   "execution_count": 106,
   "id": "772beaa8-abb4-4395-9934-2ec2fd45e802",
   "metadata": {},
   "outputs": [],
   "source": [
    "l.sort()"
   ]
  },
  {
   "cell_type": "code",
   "execution_count": 108,
   "id": "43f676a4-564c-4e37-a71a-22cf41c6f777",
   "metadata": {},
   "outputs": [
    {
     "data": {
      "text/plain": [
       "[10, 43, 52, 69, 202]"
      ]
     },
     "execution_count": 108,
     "metadata": {},
     "output_type": "execute_result"
    }
   ],
   "source": [
    "l"
   ]
  },
  {
   "cell_type": "code",
   "execution_count": 132,
   "id": "82bf3e38-3e03-466e-88e5-73cda8725df3",
   "metadata": {},
   "outputs": [],
   "source": [
    "l=[10,25,0,'hi',25.0,'tech',1]"
   ]
  },
  {
   "cell_type": "code",
   "execution_count": 134,
   "id": "cdd9d884-b766-4369-a0e8-03203667951b",
   "metadata": {},
   "outputs": [
    {
     "data": {
      "text/plain": [
       "1"
      ]
     },
     "execution_count": 134,
     "metadata": {},
     "output_type": "execute_result"
    }
   ],
   "source": [
    "l.count(10)"
   ]
  },
  {
   "cell_type": "code",
   "execution_count": 136,
   "id": "4faddd11-1e06-4704-88ff-368c10af1ffc",
   "metadata": {},
   "outputs": [],
   "source": [
    "l.insert(2,'tanishq')"
   ]
  },
  {
   "cell_type": "code",
   "execution_count": 139,
   "id": "adabeb0d-6b54-430a-b942-ed3a5607d325",
   "metadata": {},
   "outputs": [
    {
     "data": {
      "text/plain": [
       "[10, 25, 'tanishq', 0, 'hi', 25.0, 'tech', 1]"
      ]
     },
     "execution_count": 139,
     "metadata": {},
     "output_type": "execute_result"
    }
   ],
   "source": [
    "l"
   ]
  },
  {
   "cell_type": "code",
   "execution_count": 141,
   "id": "b5960772-f113-40e3-892d-7de4070e7f6b",
   "metadata": {},
   "outputs": [],
   "source": [
    "l.reverse()"
   ]
  },
  {
   "cell_type": "code",
   "execution_count": 143,
   "id": "2ce54641-fd34-4cc7-b70c-4902c84a7476",
   "metadata": {},
   "outputs": [
    {
     "data": {
      "text/plain": [
       "[1, 'tech', 25.0, 'hi', 0, 'tanishq', 25, 10]"
      ]
     },
     "execution_count": 143,
     "metadata": {},
     "output_type": "execute_result"
    }
   ],
   "source": [
    "l"
   ]
  },
  {
   "cell_type": "code",
   "execution_count": 145,
   "id": "0191e9a5-61fb-4bbe-826c-5384c689ab90",
   "metadata": {},
   "outputs": [
    {
     "data": {
      "text/plain": [
       "[1, 'tech', 25.0, 'hi', 0, 'tanishq', 25, 10]"
      ]
     },
     "execution_count": 145,
     "metadata": {},
     "output_type": "execute_result"
    }
   ],
   "source": [
    "l.copy()"
   ]
  },
  {
   "cell_type": "code",
   "execution_count": 147,
   "id": "f75345f9-5e9f-46bd-bd6e-6245f742a870",
   "metadata": {},
   "outputs": [],
   "source": [
    "b=[1,2,3] #original list"
   ]
  },
  {
   "cell_type": "code",
   "execution_count": 179,
   "id": "a6c0ba84-3c09-49c3-867b-f31fd5888220",
   "metadata": {},
   "outputs": [],
   "source": [
    "b1=b #deep copy---the action we perform in org list will affect copied list also"
   ]
  },
  {
   "cell_type": "code",
   "execution_count": 155,
   "id": "644b155f-d284-4ce4-a166-8442f7ce8e7c",
   "metadata": {},
   "outputs": [
    {
     "data": {
      "text/plain": [
       "[1, 2, 3]"
      ]
     },
     "execution_count": 155,
     "metadata": {},
     "output_type": "execute_result"
    }
   ],
   "source": [
    "b1 # copied list"
   ]
  },
  {
   "cell_type": "code",
   "execution_count": 161,
   "id": "aa0a6e89-04ec-4fef-8cf3-82b643d6f34a",
   "metadata": {},
   "outputs": [
    {
     "data": {
      "text/plain": [
       "[1, 2, 3]"
      ]
     },
     "execution_count": 161,
     "metadata": {},
     "output_type": "execute_result"
    }
   ],
   "source": [
    "b"
   ]
  },
  {
   "cell_type": "code",
   "execution_count": 163,
   "id": "a69432dd-598c-4f38-bea8-67de352fcb51",
   "metadata": {},
   "outputs": [
    {
     "data": {
      "text/plain": [
       "[1, 2, 3]"
      ]
     },
     "execution_count": 163,
     "metadata": {},
     "output_type": "execute_result"
    }
   ],
   "source": [
    "b1"
   ]
  },
  {
   "cell_type": "code",
   "execution_count": 169,
   "id": "d24b11c0-e7d5-4934-855a-2df72d4a8424",
   "metadata": {},
   "outputs": [],
   "source": [
    "b.append(100)"
   ]
  },
  {
   "cell_type": "code",
   "execution_count": 175,
   "id": "26dc6a73-2624-4352-8191-8a8556c9e5ac",
   "metadata": {},
   "outputs": [],
   "source": [
    "#original list---"
   ]
  },
  {
   "cell_type": "code",
   "execution_count": 171,
   "id": "de15efe3-2145-4277-bd76-7aeeb22f8500",
   "metadata": {},
   "outputs": [
    {
     "data": {
      "text/plain": [
       "[1, 2, 3, 100]"
      ]
     },
     "execution_count": 171,
     "metadata": {},
     "output_type": "execute_result"
    }
   ],
   "source": [
    "b"
   ]
  },
  {
   "cell_type": "code",
   "execution_count": 177,
   "id": "4681f14c-a753-4532-a60e-19045d03a3fe",
   "metadata": {},
   "outputs": [],
   "source": [
    "#copied list---"
   ]
  },
  {
   "cell_type": "code",
   "execution_count": 173,
   "id": "bf30632c-5b8a-4980-bd32-feeb55f6b4ba",
   "metadata": {},
   "outputs": [
    {
     "data": {
      "text/plain": [
       "[1, 2, 3, 100]"
      ]
     },
     "execution_count": 173,
     "metadata": {},
     "output_type": "execute_result"
    }
   ],
   "source": [
    "b1"
   ]
  },
  {
   "cell_type": "code",
   "execution_count": 181,
   "id": "6b8e1290-d9d0-4f58-92e6-4677244344f3",
   "metadata": {},
   "outputs": [],
   "source": [
    "scl=b.copy()  #shallow copy---the action we perform in org list will not affect copied list also"
   ]
  },
  {
   "cell_type": "code",
   "execution_count": 183,
   "id": "f6395568-f34f-4f61-aca9-94f04e7a1e91",
   "metadata": {},
   "outputs": [
    {
     "data": {
      "text/plain": [
       "[1, 2, 3, 100]"
      ]
     },
     "execution_count": 183,
     "metadata": {},
     "output_type": "execute_result"
    }
   ],
   "source": [
    "scl"
   ]
  },
  {
   "cell_type": "code",
   "execution_count": 185,
   "id": "f0a64512-cec8-4e82-90df-80202c334d65",
   "metadata": {},
   "outputs": [
    {
     "data": {
      "text/plain": [
       "100"
      ]
     },
     "execution_count": 185,
     "metadata": {},
     "output_type": "execute_result"
    }
   ],
   "source": [
    "b.pop()"
   ]
  },
  {
   "cell_type": "code",
   "execution_count": 189,
   "id": "4e366584-aca8-49af-b733-f2533698146a",
   "metadata": {},
   "outputs": [
    {
     "data": {
      "text/plain": [
       "[1, 2, 3]"
      ]
     },
     "execution_count": 189,
     "metadata": {},
     "output_type": "execute_result"
    }
   ],
   "source": [
    "b"
   ]
  },
  {
   "cell_type": "code",
   "execution_count": 187,
   "id": "60ec78cc-9b12-4f67-942a-ae39675a34d9",
   "metadata": {},
   "outputs": [
    {
     "data": {
      "text/plain": [
       "[1, 2, 3]"
      ]
     },
     "execution_count": 187,
     "metadata": {},
     "output_type": "execute_result"
    }
   ],
   "source": [
    "b1"
   ]
  },
  {
   "cell_type": "code",
   "execution_count": 191,
   "id": "8d56cbec-285b-45b4-841c-f1637ef578bd",
   "metadata": {},
   "outputs": [
    {
     "data": {
      "text/plain": [
       "[1, 2, 3, 100]"
      ]
     },
     "execution_count": 191,
     "metadata": {},
     "output_type": "execute_result"
    }
   ],
   "source": [
    "scl"
   ]
  }
 ],
 "metadata": {
  "kernelspec": {
   "display_name": "Python 3 (ipykernel)",
   "language": "python",
   "name": "python3"
  },
  "language_info": {
   "codemirror_mode": {
    "name": "ipython",
    "version": 3
   },
   "file_extension": ".py",
   "mimetype": "text/x-python",
   "name": "python",
   "nbconvert_exporter": "python",
   "pygments_lexer": "ipython3",
   "version": "3.12.4"
  }
 },
 "nbformat": 4,
 "nbformat_minor": 5
}
