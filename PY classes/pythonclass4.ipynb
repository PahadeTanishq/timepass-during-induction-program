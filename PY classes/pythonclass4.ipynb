{
 "cells": [
  {
   "cell_type": "markdown",
   "id": "f3c002f1-2daa-4843-a0ba-cf5466463453",
   "metadata": {},
   "source": [
    "# 19/08/2024"
   ]
  },
  {
   "cell_type": "code",
   "execution_count": 4,
   "id": "7f90c095-6caa-4663-89d8-c323a42c7dbc",
   "metadata": {},
   "outputs": [],
   "source": [
    "s = 'this is PP class' #str is ordered-- we can index/position an element ( 0,1,2,3,4....)"
   ]
  },
  {
   "cell_type": "code",
   "execution_count": 8,
   "id": "e8f241a5-6819-4f51-b1c7-3136a35f6ea0",
   "metadata": {},
   "outputs": [
    {
     "data": {
      "text/plain": [
       "'h'"
      ]
     },
     "execution_count": 8,
     "metadata": {},
     "output_type": "execute_result"
    }
   ],
   "source": [
    "s[1]"
   ]
  },
  {
   "cell_type": "code",
   "execution_count": 10,
   "id": "413d7d71-f456-47bb-9287-ae85942d99a4",
   "metadata": {},
   "outputs": [
    {
     "data": {
      "text/plain": [
       "' '"
      ]
     },
     "execution_count": 10,
     "metadata": {},
     "output_type": "execute_result"
    }
   ],
   "source": [
    "s[4]"
   ]
  },
  {
   "cell_type": "code",
   "execution_count": 18,
   "id": "899ef80f-e91e-4a8a-9d05-89ecef5196ea",
   "metadata": {},
   "outputs": [
    {
     "data": {
      "text/plain": [
       "12"
      ]
     },
     "execution_count": 18,
     "metadata": {},
     "output_type": "execute_result"
    }
   ],
   "source": [
    "s.index('l')"
   ]
  },
  {
   "cell_type": "code",
   "execution_count": null,
   "id": "b7b55e61-51a3-45df-a8c7-e9ab5889d35b",
   "metadata": {},
   "outputs": [],
   "source": []
  },
  {
   "cell_type": "raw",
   "id": "7c980738-cf80-44b3-8469-c8978e6a8714",
   "metadata": {},
   "source": [
    "# reverse indexing---- minus me count hoga"
   ]
  },
  {
   "cell_type": "code",
   "execution_count": 24,
   "id": "cbd11d6c-9456-4da6-b59c-4a7aad0daf4c",
   "metadata": {},
   "outputs": [
    {
     "data": {
      "text/plain": [
       "'a'"
      ]
     },
     "execution_count": 24,
     "metadata": {},
     "output_type": "execute_result"
    }
   ],
   "source": [
    "s[-3]"
   ]
  },
  {
   "cell_type": "code",
   "execution_count": 26,
   "id": "215662c6-208c-45d3-bdfa-907bdd76c456",
   "metadata": {},
   "outputs": [
    {
     "data": {
      "text/plain": [
       "'this is PP class'"
      ]
     },
     "execution_count": 26,
     "metadata": {},
     "output_type": "execute_result"
    }
   ],
   "source": [
    "s"
   ]
  },
  {
   "cell_type": "code",
   "execution_count": 28,
   "id": "d637658b-9837-4e26-922b-733b0ecdd1ae",
   "metadata": {},
   "outputs": [
    {
     "data": {
      "text/plain": [
       "'i'"
      ]
     },
     "execution_count": 28,
     "metadata": {},
     "output_type": "execute_result"
    }
   ],
   "source": [
    "s[2]"
   ]
  },
  {
   "cell_type": "code",
   "execution_count": 30,
   "id": "9f25e78c-1d35-4c5c-8a57-8c4e951fc5c4",
   "metadata": {},
   "outputs": [
    {
     "data": {
      "text/plain": [
       "'i'"
      ]
     },
     "execution_count": 30,
     "metadata": {},
     "output_type": "execute_result"
    }
   ],
   "source": [
    "s[-14]   #ye indexing reverse me hain...."
   ]
  },
  {
   "cell_type": "code",
   "execution_count": 32,
   "id": "f6d7bc74-774f-43f2-acf8-49a9507852be",
   "metadata": {},
   "outputs": [
    {
     "data": {
      "text/plain": [
       "2"
      ]
     },
     "execution_count": 32,
     "metadata": {},
     "output_type": "execute_result"
    }
   ],
   "source": [
    "s.index('i')"
   ]
  },
  {
   "cell_type": "code",
   "execution_count": null,
   "id": "4559aab4-de65-430b-96c1-a49b9df4875f",
   "metadata": {},
   "outputs": [],
   "source": []
  },
  {
   "cell_type": "raw",
   "id": "1f62aea3-5919-4fdb-a95a-3f066ccc824f",
   "metadata": {},
   "source": [
    "# indexing--- grab one element index/position--0,1,2,3,4 (+ve indexing) [left to right]\n",
    "# reverse indexing--- grab one element index/position----1,-2,-3---(-ve indexing)\n",
    "# slicing--- to grab more than one element/characters----  [start:end+1]\n"
   ]
  },
  {
   "cell_type": "code",
   "execution_count": null,
   "id": "6906b3fa-ed5c-4b61-967f-fa41a5d6e4af",
   "metadata": {},
   "outputs": [],
   "source": []
  },
  {
   "cell_type": "code",
   "execution_count": 44,
   "id": "9c8620c7-3e6e-4ab7-8e51-61024ea7e8be",
   "metadata": {},
   "outputs": [],
   "source": [
    "x='you are late in the class'"
   ]
  },
  {
   "cell_type": "code",
   "execution_count": 46,
   "id": "456459c6-480f-4fb6-9f30-7d68ed07e5af",
   "metadata": {},
   "outputs": [
    {
     "data": {
      "text/plain": [
       "'ate'"
      ]
     },
     "execution_count": 46,
     "metadata": {},
     "output_type": "execute_result"
    }
   ],
   "source": [
    "x[9:11+1]"
   ]
  },
  {
   "cell_type": "code",
   "execution_count": 50,
   "id": "ebd33e54-b572-464b-92ab-62cd01d63817",
   "metadata": {},
   "outputs": [
    {
     "data": {
      "text/plain": [
       "'the'"
      ]
     },
     "execution_count": 50,
     "metadata": {},
     "output_type": "execute_result"
    }
   ],
   "source": [
    "x[16:18+1]"
   ]
  },
  {
   "cell_type": "code",
   "execution_count": 56,
   "id": "30760276-d3b1-417f-9ea8-25c71b0c19ec",
   "metadata": {},
   "outputs": [
    {
     "data": {
      "text/plain": [
       "'the'"
      ]
     },
     "execution_count": 56,
     "metadata": {},
     "output_type": "execute_result"
    }
   ],
   "source": [
    "x[-9:-7+1]      #ye apan ne reverse slicing me kiya hai but remember ki apne ki pehele 'e' ka index na likhte hue pehele apan ko \n",
    "#'t' ka ;ikhna hai "
   ]
  },
  {
   "cell_type": "code",
   "execution_count": null,
   "id": "b5cd3dd3-9550-48b4-88a9-8dfa8a03c839",
   "metadata": {},
   "outputs": [],
   "source": []
  },
  {
   "cell_type": "code",
   "execution_count": 60,
   "id": "58f3807f-8ae2-46bd-a1db-c2fc69c52999",
   "metadata": {},
   "outputs": [
    {
     "data": {
      "text/plain": [
       "'you are late in the class'"
      ]
     },
     "execution_count": 60,
     "metadata": {},
     "output_type": "execute_result"
    }
   ],
   "source": [
    "x"
   ]
  },
  {
   "cell_type": "code",
   "execution_count": 62,
   "id": "8d53ec40-8b3e-473f-bcdf-2711aa94375b",
   "metadata": {},
   "outputs": [
    {
     "data": {
      "text/plain": [
       "' '"
      ]
     },
     "execution_count": 62,
     "metadata": {},
     "output_type": "execute_result"
    }
   ],
   "source": [
    "x[3:4]"
   ]
  },
  {
   "cell_type": "code",
   "execution_count": 66,
   "id": "a08444bc-b386-4395-ad21-82bbe3f47a33",
   "metadata": {},
   "outputs": [
    {
     "data": {
      "text/plain": [
       "13"
      ]
     },
     "execution_count": 66,
     "metadata": {},
     "output_type": "execute_result"
    }
   ],
   "source": [
    "x.index('i')"
   ]
  },
  {
   "cell_type": "code",
   "execution_count": 72,
   "id": "ebad5b1f-e01e-446b-b3c4-a6080018b52f",
   "metadata": {},
   "outputs": [
    {
     "data": {
      "text/plain": [
       "'in the class'"
      ]
     },
     "execution_count": 72,
     "metadata": {},
     "output_type": "execute_result"
    }
   ],
   "source": [
    "x[13:] # agar aapko end tak jana hai toh aage ka index value likhne ki jarurat nhi saemgoes for start"
   ]
  },
  {
   "cell_type": "code",
   "execution_count": 70,
   "id": "669ccee2-e4ca-408d-b43b-c5532a0cc090",
   "metadata": {},
   "outputs": [
    {
     "data": {
      "text/plain": [
       "'in the class'"
      ]
     },
     "execution_count": 70,
     "metadata": {},
     "output_type": "execute_result"
    }
   ],
   "source": [
    "x[-12:]"
   ]
  },
  {
   "cell_type": "code",
   "execution_count": 74,
   "id": "d9d00d6b-9df5-434b-9b28-793e7788bd0c",
   "metadata": {},
   "outputs": [
    {
     "data": {
      "text/plain": [
       "'you are'"
      ]
     },
     "execution_count": 74,
     "metadata": {},
     "output_type": "execute_result"
    }
   ],
   "source": [
    "x[:7]"
   ]
  },
  {
   "cell_type": "code",
   "execution_count": 76,
   "id": "bc228c2e-0bf4-452e-b96c-d58c952b18bf",
   "metadata": {},
   "outputs": [
    {
     "data": {
      "text/plain": [
       "'you are late in the class'"
      ]
     },
     "execution_count": 76,
     "metadata": {},
     "output_type": "execute_result"
    }
   ],
   "source": [
    "x"
   ]
  },
  {
   "cell_type": "code",
   "execution_count": 80,
   "id": "21c74652-820c-44ad-9088-e6e3cefe53cb",
   "metadata": {},
   "outputs": [
    {
     "data": {
      "text/plain": [
       "'you are'"
      ]
     },
     "execution_count": 80,
     "metadata": {},
     "output_type": "execute_result"
    }
   ],
   "source": [
    "x[:7]"
   ]
  },
  {
   "cell_type": "code",
   "execution_count": 82,
   "id": "b865555a-bfaa-4474-b317-63b68e182f8f",
   "metadata": {},
   "outputs": [
    {
     "ename": "TypeError",
     "evalue": "'str' object does not support item assignment",
     "output_type": "error",
     "traceback": [
      "\u001b[1;31m---------------------------------------------------------------------------\u001b[0m",
      "\u001b[1;31mTypeError\u001b[0m                                 Traceback (most recent call last)",
      "Cell \u001b[1;32mIn[82], line 1\u001b[0m\n\u001b[1;32m----> 1\u001b[0m x[:\u001b[38;5;241m7\u001b[39m]\u001b[38;5;241m=\u001b[39m \u001b[38;5;124m'\u001b[39m\u001b[38;5;124mthey are\u001b[39m\u001b[38;5;124m'\u001b[39m\n",
      "\u001b[1;31mTypeError\u001b[0m: 'str' object does not support item assignment"
     ]
    }
   ],
   "source": [
    "x[:7]= 'they are'"
   ]
  },
  {
   "cell_type": "code",
   "execution_count": 84,
   "id": "74331d6d-ee01-41ea-9324-7a2d5c70ab1d",
   "metadata": {},
   "outputs": [],
   "source": [
    "# error reason -- string is immutable ,  we cannot change an element inside str data type"
   ]
  },
  {
   "cell_type": "code",
   "execution_count": null,
   "id": "6abc05f8-cc5f-4f19-a186-96f7ab447bc4",
   "metadata": {},
   "outputs": [],
   "source": []
  },
  {
   "cell_type": "code",
   "execution_count": 86,
   "id": "c4f1a031-4f7c-4761-a690-387d71267b0a",
   "metadata": {},
   "outputs": [],
   "source": [
    "x=('hi500')"
   ]
  },
  {
   "cell_type": "code",
   "execution_count": 88,
   "id": "dec65561-a6e7-4fe7-bca1-8b1066ddd1f1",
   "metadata": {},
   "outputs": [
    {
     "data": {
      "text/plain": [
       "'500'"
      ]
     },
     "execution_count": 88,
     "metadata": {},
     "output_type": "execute_result"
    }
   ],
   "source": [
    "x[2:]"
   ]
  },
  {
   "cell_type": "code",
   "execution_count": 90,
   "id": "4133d6bd-2bb3-452c-93ba-2b3743303ed5",
   "metadata": {},
   "outputs": [
    {
     "ename": "TypeError",
     "evalue": "'str' object does not support item assignment",
     "output_type": "error",
     "traceback": [
      "\u001b[1;31m---------------------------------------------------------------------------\u001b[0m",
      "\u001b[1;31mTypeError\u001b[0m                                 Traceback (most recent call last)",
      "Cell \u001b[1;32mIn[90], line 1\u001b[0m\n\u001b[1;32m----> 1\u001b[0m x[\u001b[38;5;241m2\u001b[39m:] \u001b[38;5;241m=\u001b[39m \u001b[38;5;241m1000\u001b[39m\n",
      "\u001b[1;31mTypeError\u001b[0m: 'str' object does not support item assignment"
     ]
    }
   ],
   "source": [
    "x[2:] = 1000"
   ]
  },
  {
   "cell_type": "code",
   "execution_count": null,
   "id": "00e34424-b093-418a-a63f-8c912ad196bc",
   "metadata": {},
   "outputs": [],
   "source": []
  },
  {
   "cell_type": "code",
   "execution_count": 1,
   "id": "a4d11961-3d78-4b04-a05a-882516d400cd",
   "metadata": {},
   "outputs": [],
   "source": [
    "#Advanced data types:---- \n",
    "#list\n",
    "#tuples\n",
    "#dict-- (dictionary)\n",
    "#set"
   ]
  },
  {
   "cell_type": "raw",
   "id": "eeea5155-62f1-4ab4-b08f-157c1aa318d9",
   "metadata": {},
   "source": [
    "# List:--- hamesha square bracket me declare karenge -- []\n",
    "1..list me (int,float,str,list...) rakh sakte hai\n",
    "2..ordered --- we can index/position an element inside list\n",
    "3..mutable --- we can update/change an element inside list "
   ]
  },
  {
   "cell_type": "code",
   "execution_count": 116,
   "id": "b54b659b-dec9-4a86-996e-298b9bb310bd",
   "metadata": {},
   "outputs": [],
   "source": [
    "l=[10, 20.5,'bye'] # note 10 is on1st posi #20.5 is on 2nd "
   ]
  },
  {
   "cell_type": "code",
   "execution_count": 118,
   "id": "0dd48473-7684-4106-8ca7-2ace90610100",
   "metadata": {},
   "outputs": [
    {
     "data": {
      "text/plain": [
       "list"
      ]
     },
     "execution_count": 118,
     "metadata": {},
     "output_type": "execute_result"
    }
   ],
   "source": [
    "type(l)"
   ]
  },
  {
   "cell_type": "code",
   "execution_count": 120,
   "id": "7a979215-99d6-4d88-b6c5-a13cb822e8e1",
   "metadata": {},
   "outputs": [
    {
     "data": {
      "text/plain": [
       "20.5"
      ]
     },
     "execution_count": 120,
     "metadata": {},
     "output_type": "execute_result"
    }
   ],
   "source": [
    "l[1]"
   ]
  },
  {
   "cell_type": "code",
   "execution_count": 122,
   "id": "ec677e4f-cdbe-4185-9e39-cff25b502d0f",
   "metadata": {},
   "outputs": [
    {
     "data": {
      "text/plain": [
       "'bye'"
      ]
     },
     "execution_count": 122,
     "metadata": {},
     "output_type": "execute_result"
    }
   ],
   "source": [
    "l[-1]"
   ]
  },
  {
   "cell_type": "code",
   "execution_count": 130,
   "id": "a8cc18f4-e806-4dcc-9553-2b3ae111d24f",
   "metadata": {},
   "outputs": [
    {
     "data": {
      "text/plain": [
       "[10, 20.5, 'bye']"
      ]
     },
     "execution_count": 130,
     "metadata": {},
     "output_type": "execute_result"
    }
   ],
   "source": [
    " l "
   ]
  },
  {
   "cell_type": "code",
   "execution_count": 134,
   "id": "81429621-d26a-48c3-9837-a3341773da67",
   "metadata": {},
   "outputs": [],
   "source": [
    "q = l[2]"
   ]
  },
  {
   "cell_type": "code",
   "execution_count": 136,
   "id": "b5307fba-ce0d-4201-98dd-c2ef90b86783",
   "metadata": {},
   "outputs": [
    {
     "data": {
      "text/plain": [
       "'bye'"
      ]
     },
     "execution_count": 136,
     "metadata": {},
     "output_type": "execute_result"
    }
   ],
   "source": [
    "q"
   ]
  },
  {
   "cell_type": "code",
   "execution_count": 138,
   "id": "31e0de19-166e-42bd-862e-4775a76f1bc0",
   "metadata": {},
   "outputs": [
    {
     "data": {
      "text/plain": [
       "'b'"
      ]
     },
     "execution_count": 138,
     "metadata": {},
     "output_type": "execute_result"
    }
   ],
   "source": [
    "q[0]"
   ]
  },
  {
   "cell_type": "code",
   "execution_count": 142,
   "id": "d9cc496a-b4a0-4864-b843-43baed6a2e47",
   "metadata": {},
   "outputs": [
    {
     "data": {
      "text/plain": [
       "'b'"
      ]
     },
     "execution_count": 142,
     "metadata": {},
     "output_type": "execute_result"
    }
   ],
   "source": [
    "l[2][0]"
   ]
  },
  {
   "cell_type": "code",
   "execution_count": 144,
   "id": "a3d676b3-0cc3-4c80-a8e9-d9d0e9402733",
   "metadata": {},
   "outputs": [
    {
     "data": {
      "text/plain": [
       "[10, 20.5, 'bye']"
      ]
     },
     "execution_count": 144,
     "metadata": {},
     "output_type": "execute_result"
    }
   ],
   "source": [
    "l"
   ]
  },
  {
   "cell_type": "code",
   "execution_count": 148,
   "id": "5f80ad06-e8f1-41ed-b1bd-00fbd46a40ba",
   "metadata": {},
   "outputs": [],
   "source": [
    "l[2] = 'hi'"
   ]
  },
  {
   "cell_type": "code",
   "execution_count": 150,
   "id": "0c0dbcfb-37d0-4465-b28c-2bac32d245d4",
   "metadata": {},
   "outputs": [
    {
     "data": {
      "text/plain": [
       "'hi'"
      ]
     },
     "execution_count": 150,
     "metadata": {},
     "output_type": "execute_result"
    }
   ],
   "source": [
    "l[2]"
   ]
  },
  {
   "cell_type": "code",
   "execution_count": 162,
   "id": "adf00952-a6e8-4d83-891e-4bba6da7824c",
   "metadata": {},
   "outputs": [],
   "source": [
    "b=[10, 20.5, 'bye'] # how to grab 'ye'"
   ]
  },
  {
   "cell_type": "code",
   "execution_count": 160,
   "id": "d9f85521-00f4-45a2-817b-5d79d4a34968",
   "metadata": {},
   "outputs": [
    {
     "data": {
      "text/plain": [
       "'ye'"
      ]
     },
     "execution_count": 160,
     "metadata": {},
     "output_type": "execute_result"
    }
   ],
   "source": [
    "b[2][1:3]"
   ]
  },
  {
   "cell_type": "code",
   "execution_count": 164,
   "id": "cad271c5-83c8-4736-8873-894e2550189d",
   "metadata": {},
   "outputs": [
    {
     "data": {
      "text/plain": [
       "'ye'"
      ]
     },
     "execution_count": 164,
     "metadata": {},
     "output_type": "execute_result"
    }
   ],
   "source": [
    "b[2][-2:]"
   ]
  },
  {
   "cell_type": "code",
   "execution_count": null,
   "id": "a0a5f770-3170-4a4e-b61b-0a7ce206fc49",
   "metadata": {},
   "outputs": [],
   "source": []
  }
 ],
 "metadata": {
  "kernelspec": {
   "display_name": "Python 3 (ipykernel)",
   "language": "python",
   "name": "python3"
  },
  "language_info": {
   "codemirror_mode": {
    "name": "ipython",
    "version": 3
   },
   "file_extension": ".py",
   "mimetype": "text/x-python",
   "name": "python",
   "nbconvert_exporter": "python",
   "pygments_lexer": "ipython3",
   "version": "3.12.4"
  }
 },
 "nbformat": 4,
 "nbformat_minor": 5
}
