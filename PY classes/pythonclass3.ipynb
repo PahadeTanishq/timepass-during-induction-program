{
 "cells": [
  {
   "cell_type": "markdown",
   "id": "0fed1d08-a37e-481c-8300-1b2024fbf055",
   "metadata": {},
   "source": [
    "# 16/08/2024"
   ]
  },
  {
   "cell_type": "code",
   "execution_count": 1,
   "id": "e6fe5f92-5bfc-4a1c-b1a9-b4d32be267ba",
   "metadata": {},
   "outputs": [
    {
     "name": "stdout",
     "output_type": "stream",
     "text": [
      "10\n"
     ]
    }
   ],
   "source": [
    "x = 5 \n",
    "print(x+5)"
   ]
  },
  {
   "cell_type": "code",
   "execution_count": 5,
   "id": "ed29028d-5d56-43a1-bd37-e44c6b9ee933",
   "metadata": {},
   "outputs": [
    {
     "name": "stdout",
     "output_type": "stream",
     "text": [
      "hello 5\n"
     ]
    }
   ],
   "source": [
    "print('hello',x)"
   ]
  },
  {
   "cell_type": "code",
   "execution_count": 7,
   "id": "9b46ac56-f90d-4653-81ba-9674aff7026b",
   "metadata": {},
   "outputs": [],
   "source": [
    "a,b=10,'hi'"
   ]
  },
  {
   "cell_type": "code",
   "execution_count": 9,
   "id": "eca37b87-4b2b-44c6-9882-b898a9cddbb1",
   "metadata": {},
   "outputs": [
    {
     "data": {
      "text/plain": [
       "'hi'"
      ]
     },
     "execution_count": 9,
     "metadata": {},
     "output_type": "execute_result"
    }
   ],
   "source": [
    "b"
   ]
  },
  {
   "cell_type": "code",
   "execution_count": 18,
   "id": "efbe7efa-f52d-4672-9b2a-c8021e2c1374",
   "metadata": {},
   "outputs": [
    {
     "ename": "NameError",
     "evalue": "name 'a' is not defined",
     "output_type": "error",
     "traceback": [
      "\u001b[1;31m---------------------------------------------------------------------------\u001b[0m",
      "\u001b[1;31mNameError\u001b[0m                                 Traceback (most recent call last)",
      "Cell \u001b[1;32mIn[18], line 1\u001b[0m\n\u001b[1;32m----> 1\u001b[0m \u001b[38;5;28;01mdel\u001b[39;00m a\n",
      "\u001b[1;31mNameError\u001b[0m: name 'a' is not defined"
     ]
    }
   ],
   "source": [
    "del a "
   ]
  },
  {
   "cell_type": "raw",
   "id": "b3f15896-3785-4cd7-bb9a-a7a86612669a",
   "metadata": {},
   "source": [
    "# format sepcifier :- {}:-- place holder bolte hai brackets ko #-- (.format) use hota hai.... \n",
    "baar baar split na kar ke apan woh use karte hai "
   ]
  },
  {
   "cell_type": "code",
   "execution_count": 20,
   "id": "cded83b7-5825-4925-9f50-5bd04047b461",
   "metadata": {},
   "outputs": [],
   "source": [
    "n='sam'\n",
    "a=12\n",
    "#my name is sam and age is 12"
   ]
  },
  {
   "cell_type": "code",
   "execution_count": 30,
   "id": "d11354c2-5954-43aa-8f55-652e50abd9f4",
   "metadata": {},
   "outputs": [
    {
     "name": "stdout",
     "output_type": "stream",
     "text": [
      "my name is sam age is 12\n"
     ]
    }
   ],
   "source": [
    "print('my name is',n,'age is',a)"
   ]
  },
  {
   "cell_type": "code",
   "execution_count": null,
   "id": "c052f4c5-277c-444b-ad67-0d1ed29b6eb0",
   "metadata": {},
   "outputs": [],
   "source": []
  },
  {
   "cell_type": "code",
   "execution_count": 34,
   "id": "be9fdc83-11a3-4885-90f7-f7c7640de671",
   "metadata": {},
   "outputs": [
    {
     "name": "stdout",
     "output_type": "stream",
     "text": [
      "my name is sam and age is 12\n"
     ]
    }
   ],
   "source": [
    "print('my name is {} and age is {}'.format(n,a))"
   ]
  },
  {
   "cell_type": "code",
   "execution_count": 36,
   "id": "f080d449-d55a-4b8f-ac18-3b4c5e0f4dfe",
   "metadata": {},
   "outputs": [
    {
     "name": "stdout",
     "output_type": "stream",
     "text": [
      "my name is sam and age is 12\n"
     ]
    }
   ],
   "source": [
    "print('my name is {one} and age is {two}'.format(one=n,two=a))"
   ]
  },
  {
   "cell_type": "code",
   "execution_count": 38,
   "id": "0e3bb155-80c4-4e36-808c-9d513850efac",
   "metadata": {},
   "outputs": [
    {
     "ename": "SyntaxError",
     "evalue": "expression cannot contain assignment, perhaps you meant \"==\"? (2172273808.py, line 1)",
     "output_type": "error",
     "traceback": [
      "\u001b[1;36m  Cell \u001b[1;32mIn[38], line 1\u001b[1;36m\u001b[0m\n\u001b[1;33m    print('my name is {1} and age is {2}'.format(1=n,2=a))\u001b[0m\n\u001b[1;37m                                                 ^\u001b[0m\n\u001b[1;31mSyntaxError\u001b[0m\u001b[1;31m:\u001b[0m expression cannot contain assignment, perhaps you meant \"==\"?\n"
     ]
    }
   ],
   "source": [
    "print('my name is {1} and age is {2}'.format(1=n,2=a))"
   ]
  },
  {
   "cell_type": "code",
   "execution_count": 40,
   "id": "80c7f485-bcc3-4256-b7e2-58494f054017",
   "metadata": {},
   "outputs": [],
   "source": [
    "# error reason :- numbers se start nhi ho sakta interpreter confuse ho gya "
   ]
  },
  {
   "cell_type": "code",
   "execution_count": null,
   "id": "d6f6be06-8bbb-40ad-a78f-8e781a65e9ea",
   "metadata": {},
   "outputs": [],
   "source": []
  },
  {
   "cell_type": "raw",
   "id": "62122227-cf07-4850-a54e-bd114e209443",
   "metadata": {},
   "source": [
    "#string manipulations :--"
   ]
  },
  {
   "cell_type": "code",
   "execution_count": null,
   "id": "07ebf4df-e529-43f1-ba7f-4a8420cefdad",
   "metadata": {},
   "outputs": [],
   "source": []
  },
  {
   "cell_type": "code",
   "execution_count": 44,
   "id": "3017ed99-6de7-4b7f-bcc4-d27d86709395",
   "metadata": {},
   "outputs": [],
   "source": [
    "x = \" hello sanjivani\""
   ]
  },
  {
   "cell_type": "code",
   "execution_count": 52,
   "id": "850eb6cb-35d7-4f29-aa79-084c452ac469",
   "metadata": {},
   "outputs": [
    {
     "data": {
      "text/plain": [
       "' HELLO SANJIVANI'"
      ]
     },
     "execution_count": 52,
     "metadata": {},
     "output_type": "execute_result"
    }
   ],
   "source": [
    "x.upper() #uppercase me convert kar dega "
   ]
  },
  {
   "cell_type": "code",
   "execution_count": 54,
   "id": "8d88ea04-cb20-472e-a10d-d497a95dd647",
   "metadata": {},
   "outputs": [
    {
     "data": {
      "text/plain": [
       "'hello sanjivani'"
      ]
     },
     "execution_count": 54,
     "metadata": {},
     "output_type": "execute_result"
    }
   ],
   "source": [
    "x.strip() #whitespace ya gap remove kar dega "
   ]
  },
  {
   "cell_type": "code",
   "execution_count": 60,
   "id": "2621e3f8-ba2f-419d-8a2b-0026bf6d1529",
   "metadata": {},
   "outputs": [
    {
     "data": {
      "text/plain": [
       "5"
      ]
     },
     "execution_count": 60,
     "metadata": {},
     "output_type": "execute_result"
    }
   ],
   "source": [
    "x.find('o') #position dhoond kar deta hai letters ki "
   ]
  },
  {
   "cell_type": "code",
   "execution_count": 66,
   "id": "d6cd3eed-78ba-46e8-a5bb-a6663ab88a2f",
   "metadata": {},
   "outputs": [
    {
     "data": {
      "text/plain": [
       "2"
      ]
     },
     "execution_count": 66,
     "metadata": {},
     "output_type": "execute_result"
    }
   ],
   "source": [
    "x.count('l') #konsa letter kitne baar aya hai woh count karke batata hai "
   ]
  },
  {
   "cell_type": "code",
   "execution_count": 68,
   "id": "b534af2d-b591-4758-b045-f77c9d543893",
   "metadata": {},
   "outputs": [
    {
     "data": {
      "text/plain": [
       "1"
      ]
     },
     "execution_count": 68,
     "metadata": {},
     "output_type": "execute_result"
    }
   ],
   "source": [
    "x.count('ll')"
   ]
  },
  {
   "cell_type": "code",
   "execution_count": 80,
   "id": "435882d8-bd1c-4002-9cb5-77a61016df8c",
   "metadata": {},
   "outputs": [
    {
     "data": {
      "text/plain": [
       "' tanishq sanjivani'"
      ]
     },
     "execution_count": 80,
     "metadata": {},
     "output_type": "execute_result"
    }
   ],
   "source": [
    "x.replace('hello','tanishq') #agar apne ko kuch replace karna hoga toh replace ke liye use hota hai \n",
    "#note-- sabko colon me likhna nhitoh error dikhayega "
   ]
  },
  {
   "cell_type": "code",
   "execution_count": 82,
   "id": "7e426201-9e53-41a1-96e8-fb7af4de032b",
   "metadata": {},
   "outputs": [],
   "source": [
    "x=x.replace(\"ll\",\"pp\").lstrip()"
   ]
  },
  {
   "cell_type": "code",
   "execution_count": 84,
   "id": "97a34b95-f163-4d49-bd4f-b8b07372616a",
   "metadata": {},
   "outputs": [
    {
     "data": {
      "text/plain": [
       "'heppo sanjivani'"
      ]
     },
     "execution_count": 84,
     "metadata": {},
     "output_type": "execute_result"
    }
   ],
   "source": [
    "x"
   ]
  },
  {
   "cell_type": "code",
   "execution_count": 5,
   "id": "f22abc6f-13f2-4443-9294-0bb8ecc970bd",
   "metadata": {},
   "outputs": [],
   "source": [
    "x = \" hello sanjivani\""
   ]
  },
  {
   "cell_type": "code",
   "execution_count": 7,
   "id": "33e94c83-97a2-44cb-9354-afa96faa5068",
   "metadata": {},
   "outputs": [
    {
     "data": {
      "text/plain": [
       "'e'"
      ]
     },
     "execution_count": 7,
     "metadata": {},
     "output_type": "execute_result"
    }
   ],
   "source": [
    "x[2] #kabhi bhi index position grab karna hai toh aaj se square bracket hi use karenge "
   ]
  },
  {
   "cell_type": "code",
   "execution_count": 11,
   "id": "9d91c65f-adf5-44e8-ae39-9967c8b157e3",
   "metadata": {},
   "outputs": [
    {
     "data": {
      "text/plain": [
       "12"
      ]
     },
     "execution_count": 11,
     "metadata": {},
     "output_type": "execute_result"
    }
   ],
   "source": [
    "x.index('v')"
   ]
  },
  {
   "cell_type": "code",
   "execution_count": 15,
   "id": "813da8e0-9abf-4c16-9f61-a402c5bab976",
   "metadata": {},
   "outputs": [],
   "source": [
    "# selecting a particulatar part so hum usko aage ke format me likhte hai"
   ]
  },
  {
   "cell_type": "code",
   "execution_count": 17,
   "id": "f360ae50-4dc8-4af3-a750-8bf4fe53b09b",
   "metadata": {},
   "outputs": [],
   "source": [
    "x= 'hippo sanjivani studdents'"
   ]
  },
  {
   "cell_type": "code",
   "execution_count": 19,
   "id": "c72a624a-2749-4228-99f1-0b44952cf7e4",
   "metadata": {},
   "outputs": [],
   "source": [
    "#aapko print karna hai h se s tak :--"
   ]
  },
  {
   "cell_type": "code",
   "execution_count": 27,
   "id": "f2c6cf2e-9ac8-4aee-9078-c42def428948",
   "metadata": {},
   "outputs": [
    {
     "data": {
      "text/plain": [
       "0"
      ]
     },
     "execution_count": 27,
     "metadata": {},
     "output_type": "execute_result"
    }
   ],
   "source": [
    "x.index('h')"
   ]
  },
  {
   "cell_type": "code",
   "execution_count": 29,
   "id": "81f58c95-9119-434a-93ac-fbefb120e712",
   "metadata": {},
   "outputs": [
    {
     "data": {
      "text/plain": [
       "9"
      ]
     },
     "execution_count": 29,
     "metadata": {},
     "output_type": "execute_result"
    }
   ],
   "source": [
    "x.index('j')"
   ]
  },
  {
   "cell_type": "raw",
   "id": "fb46b513-f111-44cf-b653-6086cf01fb64",
   "metadata": {},
   "source": [
    "#therefore agar aapko agar h se j tyak bas aage likhna hai toh usko [start:end+1] ke form me likhe"
   ]
  },
  {
   "cell_type": "code",
   "execution_count": 37,
   "id": "972a4d0f-c965-47cc-8afd-cac066ac2efa",
   "metadata": {},
   "outputs": [
    {
     "data": {
      "text/plain": [
       "'hippo san'"
      ]
     },
     "execution_count": 37,
     "metadata": {},
     "output_type": "execute_result"
    }
   ],
   "source": [
    "x[0:9]"
   ]
  },
  {
   "cell_type": "code",
   "execution_count": 39,
   "id": "01d95632-ae07-4571-8d68-5eedeb7c4f22",
   "metadata": {},
   "outputs": [
    {
     "data": {
      "text/plain": [
       "' sanjiv'"
      ]
     },
     "execution_count": 39,
     "metadata": {},
     "output_type": "execute_result"
    }
   ],
   "source": [
    "x[5:12]"
   ]
  },
  {
   "cell_type": "code",
   "execution_count": null,
   "id": "ea5d5102-1962-4f6a-b2fa-6fb92833d9f5",
   "metadata": {},
   "outputs": [],
   "source": []
  }
 ],
 "metadata": {
  "kernelspec": {
   "display_name": "Python 3 (ipykernel)",
   "language": "python",
   "name": "python3"
  },
  "language_info": {
   "codemirror_mode": {
    "name": "ipython",
    "version": 3
   },
   "file_extension": ".py",
   "mimetype": "text/x-python",
   "name": "python",
   "nbconvert_exporter": "python",
   "pygments_lexer": "ipython3",
   "version": "3.12.4"
  }
 },
 "nbformat": 4,
 "nbformat_minor": 5
}
