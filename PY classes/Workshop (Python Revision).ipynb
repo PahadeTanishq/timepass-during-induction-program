{
 "cells": [
  {
   "cell_type": "code",
   "execution_count": 1,
   "id": "4930d848-c263-476d-b6fc-bc7d0b553902",
   "metadata": {},
   "outputs": [],
   "source": [
    "# python.org --> downloads -> depending on OS download and install. "
   ]
  },
  {
   "cell_type": "code",
   "execution_count": 2,
   "id": "44b7b75c-d0ec-4681-b5ba-07c051915f6f",
   "metadata": {},
   "outputs": [],
   "source": [
    "# written after hashtag is a comment, this will not be read by python"
   ]
  },
  {
   "cell_type": "code",
   "execution_count": 3,
   "id": "2fd63559-36d2-484e-b57b-0eae606529ea",
   "metadata": {},
   "outputs": [],
   "source": [
    "# whatever is written is never read by python"
   ]
  },
  {
   "cell_type": "code",
   "execution_count": 4,
   "id": "02e537d2-11c9-4def-91a9-24224965c27e",
   "metadata": {},
   "outputs": [],
   "source": [
    "# ipynb -> intractive python notebook, py -> python file extension"
   ]
  },
  {
   "cell_type": "code",
   "execution_count": 5,
   "id": "75b71051-3858-46aa-9d72-805eb4a8b8ec",
   "metadata": {},
   "outputs": [],
   "source": [
    "# print() -> this is built-in func given by python, \n",
    "# prints stream of output, variables"
   ]
  },
  {
   "cell_type": "code",
   "execution_count": 6,
   "id": "811d1bd8-28e8-4dd4-8e6e-735fb2bd79d7",
   "metadata": {},
   "outputs": [],
   "source": [
    "# execute a cell --> shift + enter"
   ]
  },
  {
   "cell_type": "code",
   "execution_count": 7,
   "id": "7ba174d8-189e-46e9-84f0-67c71715dbf0",
   "metadata": {},
   "outputs": [
    {
     "name": "stdout",
     "output_type": "stream",
     "text": [
      "hello world\n"
     ]
    }
   ],
   "source": [
    "print('hello world')  # Quotation is for strings, any char given inside quotation is treated as strings"
   ]
  },
  {
   "cell_type": "code",
   "execution_count": 8,
   "id": "28266cf2-38a9-46a6-b9e5-6fc181d07047",
   "metadata": {},
   "outputs": [],
   "source": [
    "# Variables: These are labels/container to store a value and can used any where when it is called"
   ]
  },
  {
   "cell_type": "code",
   "execution_count": 9,
   "id": "7c6076f7-ce44-4acf-8782-dd6027360579",
   "metadata": {},
   "outputs": [],
   "source": [
    "age = 34  # age -> variable , = -> assignment operator, 34 -> integer(numberic) value"
   ]
  },
  {
   "cell_type": "code",
   "execution_count": 10,
   "id": "86bc8103-907f-40c9-a198-913192c4553f",
   "metadata": {},
   "outputs": [
    {
     "name": "stdout",
     "output_type": "stream",
     "text": [
      "34\n"
     ]
    }
   ],
   "source": [
    "print(age)"
   ]
  },
  {
   "cell_type": "code",
   "execution_count": 11,
   "id": "721c9334-bdb4-4213-b91f-fcfe2d88e277",
   "metadata": {},
   "outputs": [
    {
     "name": "stdout",
     "output_type": "stream",
     "text": [
      "The age is 34\n"
     ]
    }
   ],
   "source": [
    "# print, string and variable\n",
    "print('The age is', age)"
   ]
  },
  {
   "cell_type": "code",
   "execution_count": 12,
   "id": "46fb0700-ccee-48e0-8506-0f21f7a21507",
   "metadata": {},
   "outputs": [
    {
     "name": "stdout",
     "output_type": "stream",
     "text": [
      "The name is Python\n"
     ]
    }
   ],
   "source": [
    "name = 'Python'\n",
    "print('The name is', name)  # The name is Python"
   ]
  },
  {
   "cell_type": "code",
   "execution_count": 13,
   "id": "2ca7fe0a-67bb-4729-9396-056ca70eaa2b",
   "metadata": {},
   "outputs": [
    {
     "name": "stdout",
     "output_type": "stream",
     "text": [
      "The name is Python\n"
     ]
    }
   ],
   "source": [
    "print('The name is ' + name)  # concatenation (adding two or more strings)"
   ]
  },
  {
   "cell_type": "code",
   "execution_count": 14,
   "id": "6b15f95d-41ba-409d-bfff-7bd95c52ce26",
   "metadata": {},
   "outputs": [
    {
     "name": "stdout",
     "output_type": "stream",
     "text": [
      "PythonPythonPython\n"
     ]
    }
   ],
   "source": [
    "print(name * 3)  # repeatation of variables "
   ]
  },
  {
   "cell_type": "code",
   "execution_count": 15,
   "id": "3ca16c46-7c99-4005-a3cc-0563c50073dc",
   "metadata": {},
   "outputs": [
    {
     "name": "stdout",
     "output_type": "stream",
     "text": [
      "Please repeat this Please repeat this Please repeat this Please repeat this \n"
     ]
    }
   ],
   "source": [
    "print('Please repeat this ' * 4) "
   ]
  },
  {
   "cell_type": "code",
   "execution_count": 16,
   "id": "748062f1-08f1-42f9-8ccf-d8f6ec7e9697",
   "metadata": {},
   "outputs": [
    {
     "name": "stdout",
     "output_type": "stream",
     "text": [
      "Hello this is first line\n",
      "Hello this is second line\n"
     ]
    }
   ],
   "source": [
    "# functionality of print -> end, sep\n",
    "# \\n -> new line, this is an escape char\n",
    "print('Hello this is first line')\n",
    "print('Hello this is second line')"
   ]
  },
  {
   "cell_type": "code",
   "execution_count": 17,
   "id": "65c6188a-6f89-4ff9-bb04-f5552b41cfa3",
   "metadata": {},
   "outputs": [
    {
     "name": "stdout",
     "output_type": "stream",
     "text": [
      "Hello this is first line Hello this is second line\n"
     ]
    }
   ],
   "source": [
    "print('Hello this is first line', end=' ')  # '' -> this is an empty string\n",
    "print('Hello this is second line')"
   ]
  },
  {
   "cell_type": "code",
   "execution_count": 18,
   "id": "69225095-a59d-4a44-aad4-462dc9e761b1",
   "metadata": {},
   "outputs": [
    {
     "name": "stdout",
     "output_type": "stream",
     "text": [
      "Hello_World\n"
     ]
    }
   ],
   "source": [
    "# end -> this is parameter, already present in print, to add a new line as default\n",
    "print('Hello', end='_')\n",
    "print('World')"
   ]
  },
  {
   "cell_type": "code",
   "execution_count": 19,
   "id": "3ef10792-e063-4c28-8aa4-d723cc187463",
   "metadata": {},
   "outputs": [
    {
     "name": "stdout",
     "output_type": "stream",
     "text": [
      "hello--world\n"
     ]
    }
   ],
   "source": [
    "# sep -> this is a separator for each values/strings in print\n",
    "print('hello', 'world', sep='--')"
   ]
  },
  {
   "cell_type": "code",
   "execution_count": 20,
   "id": "f4278593-b672-44b8-9915-278b13943a7e",
   "metadata": {},
   "outputs": [
    {
     "name": "stdout",
     "output_type": "stream",
     "text": [
      "Python-->34\n"
     ]
    }
   ],
   "source": [
    "print(name, age, sep='-->')"
   ]
  },
  {
   "cell_type": "code",
   "execution_count": 21,
   "id": "1432bbab-02e0-4db2-b247-531d1d151c17",
   "metadata": {},
   "outputs": [
    {
     "name": "stdout",
     "output_type": "stream",
     "text": [
      "This is separator_we are learning in python\n"
     ]
    }
   ],
   "source": [
    "print('This is separator', 'we are learning in python', sep='_')  # This is separator_we are learning in python"
   ]
  },
  {
   "cell_type": "code",
   "execution_count": 22,
   "id": "e9e12d3e-7d7f-4afe-816b-47e8734ef1e5",
   "metadata": {},
   "outputs": [],
   "source": [
    "# User input -> any information/ data/ value given by user\n",
    "# user -> the person who is using our code\n",
    "# input() function is used to take user input."
   ]
  },
  {
   "cell_type": "code",
   "execution_count": 23,
   "id": "29b1bd34-23a1-4ab6-b3db-c957a817520a",
   "metadata": {},
   "outputs": [
    {
     "name": "stdin",
     "output_type": "stream",
     "text": [
      " Python\n"
     ]
    },
    {
     "data": {
      "text/plain": [
       "'Python'"
      ]
     },
     "execution_count": 23,
     "metadata": {},
     "output_type": "execute_result"
    }
   ],
   "source": [
    "input() "
   ]
  },
  {
   "cell_type": "code",
   "execution_count": 24,
   "id": "87277643-aae1-4c4d-b2d0-c2b0b4f4ab50",
   "metadata": {},
   "outputs": [
    {
     "name": "stdin",
     "output_type": "stream",
     "text": [
      " Python\n"
     ]
    }
   ],
   "source": [
    "day = input()  # day is initialized/collect with user input"
   ]
  },
  {
   "cell_type": "code",
   "execution_count": 25,
   "id": "468fba89-cd73-4d0a-8da5-c3d71841d644",
   "metadata": {},
   "outputs": [
    {
     "name": "stdout",
     "output_type": "stream",
     "text": [
      "Python\n"
     ]
    }
   ],
   "source": [
    "print(day)"
   ]
  },
  {
   "cell_type": "code",
   "execution_count": 26,
   "id": "df65b094-8e84-48ec-8e25-0c7d310a848c",
   "metadata": {},
   "outputs": [
    {
     "name": "stdin",
     "output_type": "stream",
     "text": [
      "Enter todays day Sunday\n"
     ]
    }
   ],
   "source": [
    "day = input('Enter todays day')  # Taking a custom input with a custom message "
   ]
  },
  {
   "cell_type": "code",
   "execution_count": 27,
   "id": "3a11f35c-fc79-452a-b0ed-287a9e511bc0",
   "metadata": {},
   "outputs": [
    {
     "name": "stdout",
     "output_type": "stream",
     "text": [
      "Sunday\n"
     ]
    }
   ],
   "source": [
    "print(day)"
   ]
  },
  {
   "cell_type": "code",
   "execution_count": 28,
   "id": "fca6bf3d-60f3-480c-9559-d5b0280573ec",
   "metadata": {},
   "outputs": [],
   "source": [
    "# Arithmetic operators"
   ]
  },
  {
   "cell_type": "code",
   "execution_count": 29,
   "id": "530af99d-500f-4dc2-bf13-e271c5186242",
   "metadata": {},
   "outputs": [
    {
     "name": "stdout",
     "output_type": "stream",
     "text": [
      "35\n"
     ]
    }
   ],
   "source": [
    "number1 = 12\n",
    "number2 = 23\n",
    "print(number1 + number2) # adding two numeric values, it is addition \n",
    "# + -> addition operator "
   ]
  },
  {
   "cell_type": "code",
   "execution_count": 30,
   "id": "cbfc5acd-153e-479e-a39f-1a93a7c72f77",
   "metadata": {},
   "outputs": [
    {
     "name": "stdout",
     "output_type": "stream",
     "text": [
      "11\n"
     ]
    }
   ],
   "source": [
    "print(number2 - number1)  # subtraction two numeric values, it is subtraction"
   ]
  },
  {
   "cell_type": "code",
   "execution_count": 31,
   "id": "5073f88a-586b-4fd2-9646-92864f432db0",
   "metadata": {},
   "outputs": [
    {
     "name": "stdout",
     "output_type": "stream",
     "text": [
      "276\n"
     ]
    }
   ],
   "source": [
    "print(number1 * number2)  # multiplication operator"
   ]
  },
  {
   "cell_type": "code",
   "execution_count": 32,
   "id": "f4677ce2-ae9d-4600-9aa6-492010a4aaae",
   "metadata": {},
   "outputs": [
    {
     "name": "stdout",
     "output_type": "stream",
     "text": [
      "11.5\n"
     ]
    }
   ],
   "source": [
    "print(number2 / 2)  # division operator, qoutent"
   ]
  },
  {
   "cell_type": "code",
   "execution_count": 33,
   "id": "2852ca68-97e3-4634-9330-88d3ec73411e",
   "metadata": {},
   "outputs": [
    {
     "name": "stdout",
     "output_type": "stream",
     "text": [
      "1\n"
     ]
    }
   ],
   "source": [
    "print(number2 % 2)  # modulo, remainder"
   ]
  },
  {
   "cell_type": "code",
   "execution_count": 34,
   "id": "2ea9bb4a-e2a8-4098-9ac0-3b27962640b5",
   "metadata": {},
   "outputs": [
    {
     "name": "stdout",
     "output_type": "stream",
     "text": [
      "144\n",
      "3025\n",
      "166375\n"
     ]
    }
   ],
   "source": [
    "print(number1**2)  # exponent, power\n",
    "print(55**2)\n",
    "print(55**3)"
   ]
  },
  {
   "cell_type": "code",
   "execution_count": 35,
   "id": "5d39a26c-382a-4f66-b043-074739c1478c",
   "metadata": {},
   "outputs": [
    {
     "name": "stdout",
     "output_type": "stream",
     "text": [
      "6.0\n"
     ]
    }
   ],
   "source": [
    "print(number1/2)"
   ]
  },
  {
   "cell_type": "code",
   "execution_count": 36,
   "id": "ec57b0ee-fa4c-4962-9459-5a5b50621ee8",
   "metadata": {},
   "outputs": [
    {
     "name": "stdout",
     "output_type": "stream",
     "text": [
      "6\n"
     ]
    }
   ],
   "source": [
    "print(number1//2)  # floor division\n",
    "# flooring value -> the lowest whole number from the decimal value"
   ]
  },
  {
   "cell_type": "code",
   "execution_count": 37,
   "id": "d6980230-58dc-4bf1-b939-73ac0a9a5a09",
   "metadata": {},
   "outputs": [
    {
     "name": "stdout",
     "output_type": "stream",
     "text": [
      "16.142857142857142\n"
     ]
    }
   ],
   "source": [
    "print(113/7)"
   ]
  },
  {
   "cell_type": "code",
   "execution_count": 38,
   "id": "d5627813-9d5c-4897-be15-ed06ed4cea38",
   "metadata": {},
   "outputs": [
    {
     "name": "stdout",
     "output_type": "stream",
     "text": [
      "16\n"
     ]
    }
   ],
   "source": [
    "# 16....... 16.142857142857142.... 17\n",
    "print(113//7)"
   ]
  },
  {
   "cell_type": "code",
   "execution_count": 39,
   "id": "a9e6bbcf-d185-4cdf-b9f8-b3ec81d97ab3",
   "metadata": {},
   "outputs": [],
   "source": [
    "# Assignment operator \n",
    "# = -> assignment operator"
   ]
  },
  {
   "cell_type": "code",
   "execution_count": 40,
   "id": "ce7fbd67-dcb9-4189-b11b-9328261aff5e",
   "metadata": {},
   "outputs": [],
   "source": [
    "value = 50"
   ]
  },
  {
   "cell_type": "code",
   "execution_count": 41,
   "id": "d6a3c243-2125-468d-887b-d20fb121aee5",
   "metadata": {},
   "outputs": [
    {
     "name": "stdout",
     "output_type": "stream",
     "text": [
      "45\n"
     ]
    }
   ],
   "source": [
    "value = value - 5 \n",
    "print(value)"
   ]
  },
  {
   "cell_type": "code",
   "execution_count": 42,
   "id": "268ac996-462d-402f-86eb-e300818ad8a0",
   "metadata": {},
   "outputs": [
    {
     "name": "stdout",
     "output_type": "stream",
     "text": [
      "40\n"
     ]
    }
   ],
   "source": [
    "value -= 5  # value = value - 5  # subtract and assignment\n",
    "print(value)"
   ]
  },
  {
   "cell_type": "code",
   "execution_count": 43,
   "id": "7aa09475-d0c7-4b74-af53-db8d5ef254cc",
   "metadata": {},
   "outputs": [
    {
     "name": "stdout",
     "output_type": "stream",
     "text": [
      "80\n"
     ]
    }
   ],
   "source": [
    "value *= 2  # value = value * 2\n",
    "print(value)"
   ]
  },
  {
   "cell_type": "code",
   "execution_count": 44,
   "id": "42083aec-5b76-4122-bc57-2c907b6f8508",
   "metadata": {},
   "outputs": [
    {
     "name": "stdout",
     "output_type": "stream",
     "text": [
      "20.0\n"
     ]
    }
   ],
   "source": [
    "value /= 4  # value = value / 4\n",
    "print(value)"
   ]
  },
  {
   "cell_type": "code",
   "execution_count": 45,
   "id": "a9476c23-dc51-4bdb-b937-65c20fc17752",
   "metadata": {},
   "outputs": [
    {
     "name": "stdout",
     "output_type": "stream",
     "text": [
      "400.0\n"
     ]
    }
   ],
   "source": [
    "value **= 2  # value = value**2\n",
    "print(value)"
   ]
  },
  {
   "cell_type": "code",
   "execution_count": 46,
   "id": "d254cf0e-ff88-4db6-afe3-09bd7e840f4f",
   "metadata": {},
   "outputs": [
    {
     "name": "stdout",
     "output_type": "stream",
     "text": [
      "133.0\n"
     ]
    }
   ],
   "source": [
    "value //= 3 # value = value // 3\n",
    "print(value)  # 133"
   ]
  },
  {
   "cell_type": "code",
   "execution_count": 47,
   "id": "f2940e59-621e-410d-891a-ea21acce1eb2",
   "metadata": {},
   "outputs": [],
   "source": [
    "# comparison operator -> to compare two values -> everytime it will return you a boolean value(True, False)\n",
    "# less than <, greater than >, less than equals <=, greater than equals >=\n",
    "# == equal to, != not equal to"
   ]
  },
  {
   "cell_type": "code",
   "execution_count": 48,
   "id": "9773a296-17a2-407b-9932-085b451819f6",
   "metadata": {},
   "outputs": [
    {
     "name": "stdout",
     "output_type": "stream",
     "text": [
      "True\n"
     ]
    }
   ],
   "source": [
    "age1 = 24\n",
    "age2 = 55\n",
    "\n",
    "print(age1 < age2) # 24 < 55 "
   ]
  },
  {
   "cell_type": "code",
   "execution_count": 49,
   "id": "cac521af-af34-4c46-92f0-16cdfcd2a3d9",
   "metadata": {},
   "outputs": [
    {
     "name": "stdout",
     "output_type": "stream",
     "text": [
      "False\n"
     ]
    }
   ],
   "source": [
    "print(age1 > age2) # 24 > 55"
   ]
  },
  {
   "cell_type": "code",
   "execution_count": 50,
   "id": "32d13984-fcfc-4b1f-abbe-0622b6545d7d",
   "metadata": {},
   "outputs": [
    {
     "name": "stdout",
     "output_type": "stream",
     "text": [
      "False\n"
     ]
    }
   ],
   "source": [
    "print(age1 == age2) "
   ]
  },
  {
   "cell_type": "code",
   "execution_count": 51,
   "id": "42368c60-edc0-40dc-94bf-ca5dc2f002a7",
   "metadata": {},
   "outputs": [
    {
     "name": "stdout",
     "output_type": "stream",
     "text": [
      "True\n"
     ]
    }
   ],
   "source": [
    "print(age1 != age2)  # 24 != 55"
   ]
  },
  {
   "cell_type": "code",
   "execution_count": 52,
   "id": "fd435b88-05e4-43d3-a36c-3a1b32b50e13",
   "metadata": {},
   "outputs": [
    {
     "name": "stdout",
     "output_type": "stream",
     "text": [
      "True\n"
     ]
    }
   ],
   "source": [
    "print(44 <= 44) # equals here"
   ]
  },
  {
   "cell_type": "code",
   "execution_count": 53,
   "id": "3dfd66bf-50ca-486d-812e-71eaccae88a1",
   "metadata": {},
   "outputs": [
    {
     "name": "stdout",
     "output_type": "stream",
     "text": [
      "False\n"
     ]
    }
   ],
   "source": [
    "print(44 < 44)  # no equals here"
   ]
  },
  {
   "cell_type": "code",
   "execution_count": 54,
   "id": "18d319f4-0582-46a7-8683-f31c8600d26d",
   "metadata": {},
   "outputs": [
    {
     "name": "stdout",
     "output_type": "stream",
     "text": [
      "False\n"
     ]
    }
   ],
   "source": [
    "print(age1 >= age2)"
   ]
  },
  {
   "cell_type": "code",
   "execution_count": 55,
   "id": "14f1e702-0058-4305-b9bc-3826775c2f8b",
   "metadata": {},
   "outputs": [
    {
     "name": "stdout",
     "output_type": "stream",
     "text": [
      "True\n"
     ]
    }
   ],
   "source": [
    "print(55 >= age2)  # 55 >= 55"
   ]
  },
  {
   "cell_type": "code",
   "execution_count": 56,
   "id": "bb0142c3-1107-4739-97f4-e7873fdc4f76",
   "metadata": {},
   "outputs": [],
   "source": [
    "# Logical operator -> and, or, not\n",
    "# note: logical works with boolean "
   ]
  },
  {
   "cell_type": "code",
   "execution_count": 57,
   "id": "365b10ff-bebf-4c5d-808f-63e2ee59b9b0",
   "metadata": {},
   "outputs": [
    {
     "name": "stdout",
     "output_type": "stream",
     "text": [
      "True\n"
     ]
    }
   ],
   "source": [
    "print(44 < 55)"
   ]
  },
  {
   "cell_type": "code",
   "execution_count": 58,
   "id": "bc4a2f32-4ed4-4f10-b875-107fd8664527",
   "metadata": {},
   "outputs": [
    {
     "name": "stdout",
     "output_type": "stream",
     "text": [
      "True\n"
     ]
    }
   ],
   "source": [
    "print(66 > 56)"
   ]
  },
  {
   "cell_type": "code",
   "execution_count": 59,
   "id": "7431f5ec-7341-4b79-bd48-fa3cd5cf80c0",
   "metadata": {},
   "outputs": [
    {
     "name": "stdout",
     "output_type": "stream",
     "text": [
      "True\n"
     ]
    }
   ],
   "source": [
    "print(44 < 55 and 66 > 56)"
   ]
  },
  {
   "cell_type": "code",
   "execution_count": 60,
   "id": "8dbfb37f-f68b-4d82-b250-18dfaf528b27",
   "metadata": {},
   "outputs": [
    {
     "name": "stdout",
     "output_type": "stream",
     "text": [
      "True\n",
      "False\n",
      "False\n",
      "False\n"
     ]
    }
   ],
   "source": [
    "print(True and True)  # True\n",
    "print(True and False) # False\n",
    "print(False and True) # False\n",
    "print(False and False) # False"
   ]
  },
  {
   "cell_type": "code",
   "execution_count": 61,
   "id": "547ae6fb-63c1-4651-9a55-065bebf36524",
   "metadata": {},
   "outputs": [
    {
     "name": "stdout",
     "output_type": "stream",
     "text": [
      "True\n"
     ]
    }
   ],
   "source": [
    "print(44 < 55 or 66 > 56)  # True or True -> True"
   ]
  },
  {
   "cell_type": "code",
   "execution_count": 62,
   "id": "99aec25b-9657-48e9-93be-f1fb70a8813a",
   "metadata": {},
   "outputs": [
    {
     "name": "stdout",
     "output_type": "stream",
     "text": [
      "True\n",
      "True\n",
      "True\n",
      "False\n"
     ]
    }
   ],
   "source": [
    "print(True or True)  # True\n",
    "print(True or False) # True\n",
    "print(False or True) # True\n",
    "print(False or False) # False"
   ]
  },
  {
   "cell_type": "code",
   "execution_count": 63,
   "id": "6dcc6937-3f86-45b4-bd57-d058eb10571a",
   "metadata": {},
   "outputs": [
    {
     "name": "stdout",
     "output_type": "stream",
     "text": [
      "False\n"
     ]
    }
   ],
   "source": [
    "print(not True)"
   ]
  },
  {
   "cell_type": "code",
   "execution_count": 64,
   "id": "3aff56f2-cf34-4fd6-8286-2eb7669dc32c",
   "metadata": {},
   "outputs": [
    {
     "name": "stdout",
     "output_type": "stream",
     "text": [
      "True\n"
     ]
    }
   ],
   "source": [
    "print(not False)"
   ]
  },
  {
   "cell_type": "code",
   "execution_count": 65,
   "id": "37213d35-2086-42c0-991f-ca655044fddf",
   "metadata": {},
   "outputs": [
    {
     "name": "stdout",
     "output_type": "stream",
     "text": [
      "True\n"
     ]
    }
   ],
   "source": [
    "print(not 78 > 100)  # True"
   ]
  },
  {
   "cell_type": "code",
   "execution_count": 66,
   "id": "99c820a8-6fc4-4503-96c0-30d8064d9f1e",
   "metadata": {},
   "outputs": [],
   "source": [
    "# Identity operator -> checks identity/object\n",
    "# is, is not -> return boolean"
   ]
  },
  {
   "cell_type": "code",
   "execution_count": 67,
   "id": "a97c6efb-25c6-4438-ad89-5a6c03f798d4",
   "metadata": {},
   "outputs": [
    {
     "name": "stdout",
     "output_type": "stream",
     "text": [
      "False\n"
     ]
    }
   ],
   "source": [
    "num1 = 1\n",
    "num2 = 2\n",
    "print(num1 is num2) # bcoz this are different objects"
   ]
  },
  {
   "cell_type": "code",
   "execution_count": 68,
   "id": "1d4cc01a-12e5-4919-95a3-f7662917a9ab",
   "metadata": {},
   "outputs": [
    {
     "name": "stdout",
     "output_type": "stream",
     "text": [
      "True\n"
     ]
    }
   ],
   "source": [
    "num1 = 1\n",
    "num2 = 1\n",
    "print(num1 is num2) # bcoz these are same objects"
   ]
  },
  {
   "cell_type": "code",
   "execution_count": 69,
   "id": "883ec3f2-99da-4ee9-ac69-3321da074d4b",
   "metadata": {},
   "outputs": [],
   "source": [
    "# to help with objects we will use id() function \n",
    "# id() -> returns the address of each variable stored in memory"
   ]
  },
  {
   "cell_type": "code",
   "execution_count": 70,
   "id": "1934a72a-92ff-4c32-84d3-6df1722b7e06",
   "metadata": {},
   "outputs": [
    {
     "name": "stdout",
     "output_type": "stream",
     "text": [
      "False\n",
      "140713104914872 140713104914904\n"
     ]
    }
   ],
   "source": [
    "num1 = 1\n",
    "num2 = 2\n",
    "print(num1 is num2) # bcoz this are different objects and different address\n",
    "print(id(num1), id(num2))"
   ]
  },
  {
   "cell_type": "code",
   "execution_count": 71,
   "id": "6efe3585-a5f7-426a-92ae-511fdbdd75cc",
   "metadata": {},
   "outputs": [
    {
     "name": "stdout",
     "output_type": "stream",
     "text": [
      "True\n",
      "140713104914872 140713104914872\n"
     ]
    }
   ],
   "source": [
    "num1 = 1\n",
    "num2 = 1\n",
    "print(num1 is num2) # bcoz these are same objects and same address\n",
    "print(id(num1), id(num2))"
   ]
  },
  {
   "cell_type": "code",
   "execution_count": 72,
   "id": "58d53e0b-45d6-4684-98a4-100d5e26cdbd",
   "metadata": {},
   "outputs": [
    {
     "name": "stdout",
     "output_type": "stream",
     "text": [
      "False\n"
     ]
    }
   ],
   "source": [
    "num1 = 1\n",
    "num2 = 1\n",
    "print(num1 is not num2) # bcoz these are same objects"
   ]
  },
  {
   "cell_type": "code",
   "execution_count": 73,
   "id": "260ffa37-e297-4236-a5ce-a6f2e9b4726e",
   "metadata": {},
   "outputs": [
    {
     "name": "stdout",
     "output_type": "stream",
     "text": [
      "True\n"
     ]
    }
   ],
   "source": [
    "# Membership operator -> in, not in -> boolean everytime\n",
    "name = 'Python'\n",
    "print('P' in name)"
   ]
  },
  {
   "cell_type": "code",
   "execution_count": 74,
   "id": "f2bdf62f-0efc-40a0-af38-8534a428822b",
   "metadata": {},
   "outputs": [
    {
     "name": "stdout",
     "output_type": "stream",
     "text": [
      "False\n"
     ]
    }
   ],
   "source": [
    "print('p' in name)"
   ]
  },
  {
   "cell_type": "code",
   "execution_count": 75,
   "id": "a9d1e710-fa57-4696-ab34-a351d993b153",
   "metadata": {},
   "outputs": [
    {
     "name": "stdout",
     "output_type": "stream",
     "text": [
      "True\n"
     ]
    }
   ],
   "source": [
    "print('p' not in name) # True"
   ]
  },
  {
   "cell_type": "code",
   "execution_count": 76,
   "id": "87f877fd-2419-4dd9-8174-0ce6d05b585e",
   "metadata": {},
   "outputs": [
    {
     "name": "stdout",
     "output_type": "stream",
     "text": [
      "True\n"
     ]
    }
   ],
   "source": [
    "print('Py' in name)"
   ]
  },
  {
   "cell_type": "code",
   "execution_count": 77,
   "id": "c537ba7b-e44a-4619-9a27-62d765ec9c5f",
   "metadata": {},
   "outputs": [],
   "source": [
    "# Data types"
   ]
  },
  {
   "cell_type": "code",
   "execution_count": 78,
   "id": "74630328-9250-4e57-af68-6dd462d2a4c2",
   "metadata": {},
   "outputs": [],
   "source": [
    "# numeric data type -> (int, float, complex)"
   ]
  },
  {
   "cell_type": "code",
   "execution_count": 79,
   "id": "1702b887-b189-4b3d-a5dc-418f8fb2fdfa",
   "metadata": {},
   "outputs": [],
   "source": [
    "# Integer data type\n",
    "number1 = 100 # integer/ whole number\n",
    "number2 = -9  # -ve int\n",
    "number3 = 0  # zero int"
   ]
  },
  {
   "cell_type": "code",
   "execution_count": 80,
   "id": "4860b0c9-4d99-46f0-9493-253d443b0fbe",
   "metadata": {},
   "outputs": [
    {
     "data": {
      "text/plain": [
       "int"
      ]
     },
     "execution_count": 80,
     "metadata": {},
     "output_type": "execute_result"
    }
   ],
   "source": [
    "# type() -> this helps to verify the datatype\n",
    "type(number1)"
   ]
  },
  {
   "cell_type": "code",
   "execution_count": 81,
   "id": "bfe54d50-b6f3-481f-bc06-ff74d86e99d0",
   "metadata": {},
   "outputs": [
    {
     "data": {
      "text/plain": [
       "int"
      ]
     },
     "execution_count": 81,
     "metadata": {},
     "output_type": "execute_result"
    }
   ],
   "source": [
    "type(number2)"
   ]
  },
  {
   "cell_type": "code",
   "execution_count": 82,
   "id": "e3a96122-6624-4980-b11e-bb5114817292",
   "metadata": {},
   "outputs": [
    {
     "data": {
      "text/plain": [
       "int"
      ]
     },
     "execution_count": 82,
     "metadata": {},
     "output_type": "execute_result"
    }
   ],
   "source": [
    "type(number3)"
   ]
  },
  {
   "cell_type": "code",
   "execution_count": 83,
   "id": "825aae87-80fb-43ce-81f6-7ccccf23e877",
   "metadata": {},
   "outputs": [],
   "source": [
    "# floating data type (decimal values)\n",
    "number4 = 12.67886\n",
    "number5 = -6.5669"
   ]
  },
  {
   "cell_type": "code",
   "execution_count": 84,
   "id": "36855dff-e0cd-4d16-b0f5-07ccfd7d5b3a",
   "metadata": {},
   "outputs": [
    {
     "data": {
      "text/plain": [
       "float"
      ]
     },
     "execution_count": 84,
     "metadata": {},
     "output_type": "execute_result"
    }
   ],
   "source": [
    "type(number4)"
   ]
  },
  {
   "cell_type": "code",
   "execution_count": 85,
   "id": "ccd8b836-20b4-4774-b005-1eb3cf97a352",
   "metadata": {},
   "outputs": [
    {
     "data": {
      "text/plain": [
       "float"
      ]
     },
     "execution_count": 85,
     "metadata": {},
     "output_type": "execute_result"
    }
   ],
   "source": [
    "type(number5)"
   ]
  },
  {
   "cell_type": "code",
   "execution_count": 86,
   "id": "3f46e530-f186-4a7d-9363-3cc412337089",
   "metadata": {},
   "outputs": [],
   "source": [
    "# complex data type (real + img)"
   ]
  },
  {
   "cell_type": "code",
   "execution_count": 87,
   "id": "639a89d6-11a2-4cc4-bbf5-caabb10f0e18",
   "metadata": {},
   "outputs": [],
   "source": [
    "number6 = 78 + 6j # j/J is used to denote the imaginary part\n",
    "number7 = 100 + 88J  # real -> 100, img -> 88J"
   ]
  },
  {
   "cell_type": "code",
   "execution_count": 88,
   "id": "63b5a64c-4c8a-43c9-a958-56b829f41748",
   "metadata": {},
   "outputs": [
    {
     "data": {
      "text/plain": [
       "complex"
      ]
     },
     "execution_count": 88,
     "metadata": {},
     "output_type": "execute_result"
    }
   ],
   "source": [
    "type(number6)"
   ]
  },
  {
   "cell_type": "code",
   "execution_count": 89,
   "id": "0d09e868-749a-474b-83b7-516305b412b4",
   "metadata": {},
   "outputs": [
    {
     "data": {
      "text/plain": [
       "complex"
      ]
     },
     "execution_count": 89,
     "metadata": {},
     "output_type": "execute_result"
    }
   ],
   "source": [
    "type(number7)"
   ]
  },
  {
   "cell_type": "code",
   "execution_count": 90,
   "id": "97ea65f2-9b36-4dc5-a581-452a2e9281b3",
   "metadata": {},
   "outputs": [],
   "source": [
    "# Type conversion -> converting one data type to another"
   ]
  },
  {
   "cell_type": "code",
   "execution_count": 91,
   "id": "ff2502f6-2817-4730-b716-17e150ba5556",
   "metadata": {},
   "outputs": [
    {
     "name": "stdout",
     "output_type": "stream",
     "text": [
      "<class 'int'>\n",
      "100.0\n",
      "<class 'float'>\n"
     ]
    }
   ],
   "source": [
    "num = 100  # from int to float\n",
    "print(type(num))\n",
    "num = float(num)  #  using float() we are converting the int to float\n",
    "print(num)\n",
    "print(type(num))"
   ]
  },
  {
   "cell_type": "code",
   "execution_count": 92,
   "id": "89ead191-b137-4cff-8672-7b5a56b598f8",
   "metadata": {},
   "outputs": [
    {
     "name": "stdout",
     "output_type": "stream",
     "text": [
      "<class 'float'>\n"
     ]
    }
   ],
   "source": [
    "num = 12.3\n",
    "print(type(num))"
   ]
  },
  {
   "cell_type": "code",
   "execution_count": 93,
   "id": "dc5a747f-7695-4866-822c-851dcba99753",
   "metadata": {},
   "outputs": [
    {
     "name": "stdout",
     "output_type": "stream",
     "text": [
      "<class 'int'>\n"
     ]
    }
   ],
   "source": [
    "# float to int\n",
    "num = int(num)\n",
    "print(type(num))"
   ]
  },
  {
   "cell_type": "code",
   "execution_count": 94,
   "id": "e52f0e33-cfb0-455e-8f44-3c2d9c59a80d",
   "metadata": {},
   "outputs": [
    {
     "name": "stdout",
     "output_type": "stream",
     "text": [
      "(12.001+0j)\n"
     ]
    }
   ],
   "source": [
    "# float to complex\n",
    "num = 12.001\n",
    "num = complex(num)  # using complex we are converting to complex from float\n",
    "print(num)"
   ]
  },
  {
   "cell_type": "code",
   "execution_count": 95,
   "id": "f33b1585-fed0-4d36-82d2-cc9f63075d3d",
   "metadata": {},
   "outputs": [
    {
     "name": "stdout",
     "output_type": "stream",
     "text": [
      "<class 'complex'>\n"
     ]
    }
   ],
   "source": [
    "print(type(num))"
   ]
  },
  {
   "cell_type": "code",
   "execution_count": 96,
   "id": "f7d90343-54e5-4775-bed2-ea682bdcd543",
   "metadata": {},
   "outputs": [],
   "source": [
    "# complex to float - > cannot convert complex to float or int\n",
    "num = 889 + 6j\n",
    "# num = float(num)"
   ]
  },
  {
   "cell_type": "code",
   "execution_count": 97,
   "id": "f30a6255-5ef5-4b76-8c36-5435c42bcb19",
   "metadata": {},
   "outputs": [],
   "source": [
    "# String \n",
    "#4.05pm -- Resume after short break"
   ]
  },
  {
   "cell_type": "code",
   "execution_count": 98,
   "id": "4cf42af9-fc98-4d40-852b-39944cca1331",
   "metadata": {},
   "outputs": [],
   "source": [
    "# sequences of char, series of char which are enclosed in quotation.\n",
    "my_string = 'hello'  # single quote\n",
    "my_string2 = \"Hello\"  # double quote\n",
    "my_string3 = '''Hello''' # triple single quote\n",
    "my_string4 = \"\"\"Hello\"\"\" # triple double quote"
   ]
  },
  {
   "cell_type": "code",
   "execution_count": 99,
   "id": "762249e1-d352-4e02-88c0-d26702b7408a",
   "metadata": {},
   "outputs": [
    {
     "name": "stdout",
     "output_type": "stream",
     "text": [
      "<class 'str'>\n",
      "<class 'str'>\n",
      "<class 'str'>\n",
      "<class 'str'>\n"
     ]
    }
   ],
   "source": [
    "print(type(my_string))\n",
    "print(type(my_string2))\n",
    "print(type(my_string3))\n",
    "print(type(my_string4))"
   ]
  },
  {
   "cell_type": "code",
   "execution_count": 100,
   "id": "100c6dd1-e688-44d8-8eab-406e1f67ecdf",
   "metadata": {},
   "outputs": [],
   "source": [
    "# difference of single quote, double quote vs triple single/double"
   ]
  },
  {
   "cell_type": "code",
   "execution_count": 101,
   "id": "82afb0bd-0ec9-48d6-9417-f7fa3f078e35",
   "metadata": {},
   "outputs": [],
   "source": [
    "# triple quotes are used for multiple lines\n",
    "var = '''Hello\n",
    "this \n",
    "is \n",
    "multiple \n",
    "lines'''"
   ]
  },
  {
   "cell_type": "code",
   "execution_count": 102,
   "id": "add84825-d76c-4d22-bc00-6766eebedefc",
   "metadata": {},
   "outputs": [
    {
     "name": "stdout",
     "output_type": "stream",
     "text": [
      "Hello\n",
      "this \n",
      "is \n",
      "multiple \n",
      "lines\n"
     ]
    }
   ],
   "source": [
    "print(var)"
   ]
  },
  {
   "cell_type": "code",
   "execution_count": 103,
   "id": "5fad7c94-197c-4b57-bd98-dc774d1eb8dc",
   "metadata": {},
   "outputs": [
    {
     "ename": "SyntaxError",
     "evalue": "unterminated string literal (detected at line 1) (2091335542.py, line 1)",
     "output_type": "error",
     "traceback": [
      "\u001b[1;36m  Cell \u001b[1;32mIn[103], line 1\u001b[1;36m\u001b[0m\n\u001b[1;33m    var2 = 'Hello\u001b[0m\n\u001b[1;37m           ^\u001b[0m\n\u001b[1;31mSyntaxError\u001b[0m\u001b[1;31m:\u001b[0m unterminated string literal (detected at line 1)\n"
     ]
    }
   ],
   "source": [
    "var2 = 'Hello\n",
    "this\n",
    "is \n",
    "next \n",
    "line'  # error, python is expecting to complete the quotes in same line\n",
    "# if it is starting with single quote"
   ]
  },
  {
   "cell_type": "code",
   "execution_count": 144,
   "id": "0fcd5266-794f-4fef-b1fc-b03610e67bce",
   "metadata": {},
   "outputs": [],
   "source": [
    "# indexing -> taking each char from a string\n",
    "# where each char is having an index number"
   ]
  },
  {
   "cell_type": "code",
   "execution_count": 146,
   "id": "c37d137a-1be0-4c3f-8f7b-ec4cf9e2a2a1",
   "metadata": {},
   "outputs": [],
   "source": [
    "data = 'Hello world' # indexing starts with 0 "
   ]
  },
  {
   "cell_type": "code",
   "execution_count": 148,
   "id": "a09ff89c-a4dc-4e72-ae1a-10abfa4bde95",
   "metadata": {},
   "outputs": [
    {
     "name": "stdout",
     "output_type": "stream",
     "text": [
      "H\n"
     ]
    }
   ],
   "source": [
    "print(data[0])"
   ]
  },
  {
   "cell_type": "code",
   "execution_count": 150,
   "id": "e9fa81c1-2813-4e02-9de1-bcd0748bbcba",
   "metadata": {},
   "outputs": [
    {
     "name": "stdout",
     "output_type": "stream",
     "text": [
      "w\n"
     ]
    }
   ],
   "source": [
    "print(data[6])"
   ]
  },
  {
   "cell_type": "code",
   "execution_count": 152,
   "id": "e6e83547-6726-4ed6-b69a-4f7d17607a5d",
   "metadata": {},
   "outputs": [
    {
     "name": "stdout",
     "output_type": "stream",
     "text": [
      "11\n"
     ]
    }
   ],
   "source": [
    "# len() -> to find out length of chars in string or iterable \n",
    "print(len(data))"
   ]
  },
  {
   "cell_type": "code",
   "execution_count": 154,
   "id": "177e7d99-f217-44f3-84bb-60dbe29041bc",
   "metadata": {},
   "outputs": [],
   "source": [
    "# slicing -> fetching multiple values \n",
    "# [start: end+1: step]"
   ]
  },
  {
   "cell_type": "code",
   "execution_count": 156,
   "id": "e96469df-05b2-46cb-b731-f1019dcb6427",
   "metadata": {},
   "outputs": [
    {
     "name": "stdout",
     "output_type": "stream",
     "text": [
      "Hello w\n"
     ]
    }
   ],
   "source": [
    "print(data[0:7])"
   ]
  },
  {
   "cell_type": "code",
   "execution_count": 158,
   "id": "4d5810f6-edfd-4176-870a-01abcf899b32",
   "metadata": {},
   "outputs": [
    {
     "name": "stdout",
     "output_type": "stream",
     "text": [
      "orld\n"
     ]
    }
   ],
   "source": [
    "print(data[7:]) # from 7 till last"
   ]
  },
  {
   "cell_type": "code",
   "execution_count": 160,
   "id": "f1a04c0e-dd91-4179-a023-c886d5701c6a",
   "metadata": {},
   "outputs": [
    {
     "name": "stdout",
     "output_type": "stream",
     "text": [
      "Hello world\n"
     ]
    }
   ],
   "source": [
    "print(data[:])  # all chars are returned"
   ]
  },
  {
   "cell_type": "code",
   "execution_count": 161,
   "id": "52a52a09-1223-4b18-a1b9-cb8e9dcbb22d",
   "metadata": {},
   "outputs": [
    {
     "name": "stdout",
     "output_type": "stream",
     "text": [
      "Hello wo\n"
     ]
    }
   ],
   "source": [
    "print(data[:8]) # give me data till 8 char from begining"
   ]
  },
  {
   "cell_type": "code",
   "execution_count": 162,
   "id": "820321bf-6149-43db-8271-84e960469cd4",
   "metadata": {},
   "outputs": [
    {
     "name": "stdout",
     "output_type": "stream",
     "text": [
      "Hlowrd\n"
     ]
    }
   ],
   "source": [
    "print(data[::2]) # takes all char skipping the 2nd char"
   ]
  },
  {
   "cell_type": "code",
   "execution_count": 163,
   "id": "acedde08-8d5b-49d0-859e-67166234148e",
   "metadata": {},
   "outputs": [],
   "source": [
    "# Hello world -> Hlowrd"
   ]
  },
  {
   "cell_type": "code",
   "execution_count": 165,
   "id": "24410db3-f3c0-482f-aa1d-b87c48694f08",
   "metadata": {},
   "outputs": [
    {
     "name": "stdout",
     "output_type": "stream",
     "text": [
      "eoo\n"
     ]
    }
   ],
   "source": [
    "print(data[1:8:3]) # -> eoo  # starting from 1 till 8th char skipping 2,3 char"
   ]
  },
  {
   "cell_type": "code",
   "execution_count": 167,
   "id": "d5069030-ccc4-4d72-a797-0cba28b9b048",
   "metadata": {},
   "outputs": [
    {
     "name": "stdout",
     "output_type": "stream",
     "text": [
      "Python\n"
     ]
    }
   ],
   "source": [
    "# methods\n",
    "var = 'python'\n",
    "print(var.capitalize())"
   ]
  },
  {
   "cell_type": "code",
   "execution_count": 170,
   "id": "5c7cc199-2fae-4b57-a452-cead55122660",
   "metadata": {},
   "outputs": [
    {
     "name": "stdout",
     "output_type": "stream",
     "text": [
      "PYTHON\n"
     ]
    }
   ],
   "source": [
    "print(var.upper())"
   ]
  },
  {
   "cell_type": "code",
   "execution_count": 173,
   "id": "01c03228-3578-444a-b61f-dccfa3c812e4",
   "metadata": {},
   "outputs": [
    {
     "name": "stdout",
     "output_type": "stream",
     "text": [
      "**********************python**********************\n"
     ]
    }
   ],
   "source": [
    "print(var.center(50, '*'))"
   ]
  },
  {
   "cell_type": "code",
   "execution_count": 175,
   "id": "5772f05b-bbd1-417e-af18-076567acddac",
   "metadata": {},
   "outputs": [
    {
     "name": "stdout",
     "output_type": "stream",
     "text": [
      "True\n"
     ]
    }
   ],
   "source": [
    "print(var.islower())"
   ]
  },
  {
   "cell_type": "code",
   "execution_count": 178,
   "id": "44e8037d-bfaf-4d24-a140-163563eede54",
   "metadata": {},
   "outputs": [
    {
     "data": {
      "text/plain": [
       "'nohtyp'"
      ]
     },
     "execution_count": 178,
     "metadata": {},
     "output_type": "execute_result"
    }
   ],
   "source": [
    "# reverse a string\n",
    "var[::-1]"
   ]
  },
  {
   "cell_type": "code",
   "execution_count": 180,
   "id": "490f2208-243d-403e-9399-75f6e749a4dd",
   "metadata": {},
   "outputs": [],
   "source": [
    "# tuple -> denoted by (), indexed, order, immutable\n",
    "# immutable -> once created cannot be changed, these donot allow item assgn"
   ]
  },
  {
   "cell_type": "code",
   "execution_count": 182,
   "id": "42e58ddf-c782-47d1-a9a0-976f9b5f73d2",
   "metadata": {},
   "outputs": [
    {
     "name": "stdout",
     "output_type": "stream",
     "text": [
      "3\n",
      "<class 'tuple'>\n"
     ]
    }
   ],
   "source": [
    "names = ('abc', 'efg', 'ijk')\n",
    "print(len(names))\n",
    "print(type(names))"
   ]
  },
  {
   "cell_type": "code",
   "execution_count": 184,
   "id": "acf291be-d711-4ac0-a59a-a1919b3e13ea",
   "metadata": {},
   "outputs": [
    {
     "data": {
      "text/plain": [
       "'abc'"
      ]
     },
     "execution_count": 184,
     "metadata": {},
     "output_type": "execute_result"
    }
   ],
   "source": [
    "names[0]"
   ]
  },
  {
   "cell_type": "code",
   "execution_count": null,
   "id": "dd1831c1-e3b6-44e8-9beb-fabb2292a499",
   "metadata": {},
   "outputs": [],
   "source": [
    "names[0] = 'python'"
   ]
  },
  {
   "cell_type": "code",
   "execution_count": null,
   "id": "099db33f-77eb-433b-a65e-7b841fcfc840",
   "metadata": {},
   "outputs": [],
   "source": [
    "var = 'strings'\n",
    "var[0] = 'S'\n",
    "# strings are as well immutable items"
   ]
  },
  {
   "cell_type": "code",
   "execution_count": null,
   "id": "60ac4580-0976-4d04-98c7-41c0ecd4f1fd",
   "metadata": {},
   "outputs": [],
   "source": [
    "names.count('abc')"
   ]
  },
  {
   "cell_type": "code",
   "execution_count": null,
   "id": "ab5a5c60-1d52-443e-a8d0-7f4e98228af5",
   "metadata": {},
   "outputs": [],
   "source": [
    "names = ('abc', 'efg', 'ijk', 'abc', 'abc')\n",
    "names.count('abc')"
   ]
  },
  {
   "cell_type": "code",
   "execution_count": null,
   "id": "21df6184-a1eb-42b8-ac9c-5849156fa2c8",
   "metadata": {},
   "outputs": [],
   "source": [
    "names.index('efg')"
   ]
  },
  {
   "cell_type": "code",
   "execution_count": null,
   "id": "da2c25db-c2ca-4326-9cb2-8afd39697579",
   "metadata": {},
   "outputs": [],
   "source": [
    "names.index('abc') # though we have multiple same value, everytime first occurance will be given"
   ]
  },
  {
   "cell_type": "code",
   "execution_count": null,
   "id": "345d8353-2e0b-48c8-bbed-41f31dfda62a",
   "metadata": {},
   "outputs": [],
   "source": [
    "# List -> ordered, indexed, mutable\n",
    "# denoted -> []"
   ]
  },
  {
   "cell_type": "code",
   "execution_count": null,
   "id": "dafd8ee4-b3ba-483a-98e7-9b09bfbdca8b",
   "metadata": {},
   "outputs": [],
   "source": [
    "names = ['abc', 'efg', 'ijk']\n",
    "print(type(names))"
   ]
  },
  {
   "cell_type": "code",
   "execution_count": null,
   "id": "fe8a6f2b-cbad-4b3e-a21a-698bec3f71f8",
   "metadata": {},
   "outputs": [],
   "source": [
    "print(names[0])"
   ]
  },
  {
   "cell_type": "code",
   "execution_count": null,
   "id": "84ccfcbb-a74b-400f-96df-8d98e2ec3ef1",
   "metadata": {},
   "outputs": [],
   "source": [
    "names[0] = 'Python'  # item assignment is possible hence this is mutable"
   ]
  },
  {
   "cell_type": "code",
   "execution_count": null,
   "id": "2aaed098-b153-4f91-b4fd-050e0d02ac6f",
   "metadata": {},
   "outputs": [],
   "source": [
    "print(names)"
   ]
  },
  {
   "cell_type": "code",
   "execution_count": null,
   "id": "642cd76c-e5a5-4ee6-a89e-4512be698876",
   "metadata": {},
   "outputs": [],
   "source": [
    "# methods of list\n",
    "names.append(100) # add items to the end of list"
   ]
  },
  {
   "cell_type": "code",
   "execution_count": null,
   "id": "decd519f-cf05-448f-a892-9d4f5bf69ba1",
   "metadata": {},
   "outputs": [],
   "source": [
    "print(names)"
   ]
  },
  {
   "cell_type": "code",
   "execution_count": null,
   "id": "0a02d449-bfeb-4d16-9349-7e6e33dd8d3a",
   "metadata": {},
   "outputs": [],
   "source": [
    "names.extend([1, 2, 3])"
   ]
  },
  {
   "cell_type": "code",
   "execution_count": null,
   "id": "430056c7-9cab-4857-a2ca-37977b46e617",
   "metadata": {},
   "outputs": [],
   "source": [
    "print(names)"
   ]
  },
  {
   "cell_type": "code",
   "execution_count": null,
   "id": "749c069c-65fb-4c4b-96c9-4b1337e5c8f2",
   "metadata": {},
   "outputs": [],
   "source": [
    "names.insert(3,  'new data')"
   ]
  },
  {
   "cell_type": "code",
   "execution_count": null,
   "id": "d4e5f677-5bbb-434f-a58a-2b53e4d8f147",
   "metadata": {},
   "outputs": [],
   "source": [
    "print(names)"
   ]
  },
  {
   "cell_type": "code",
   "execution_count": null,
   "id": "1ca702ac-58b9-4af0-b3e4-e795dcedae50",
   "metadata": {},
   "outputs": [],
   "source": [
    "names.clear() #del all values"
   ]
  },
  {
   "cell_type": "code",
   "execution_count": null,
   "id": "9330f6ef-73d7-4e56-ab91-ba662723780f",
   "metadata": {},
   "outputs": [],
   "source": [
    "print(names) # empty list"
   ]
  },
  {
   "cell_type": "code",
   "execution_count": null,
   "id": "ddcad7e5-a3c8-42a2-9c71-64e028a15be9",
   "metadata": {},
   "outputs": [],
   "source": [
    "# set -> {}, not ordered, no index, no duplicates are allowed\n",
    "set1 = {1, 2, 3, 4, 1, 4, 5, 2, 5}"
   ]
  },
  {
   "cell_type": "code",
   "execution_count": null,
   "id": "bc92739f-5f95-4e01-af67-b53ea60b59d4",
   "metadata": {},
   "outputs": [],
   "source": [
    "print(len(set1))"
   ]
  },
  {
   "cell_type": "code",
   "execution_count": null,
   "id": "8b3f58a8-afc7-4e56-b3ff-6edd325cb5bb",
   "metadata": {},
   "outputs": [],
   "source": [
    "print(set1)"
   ]
  },
  {
   "cell_type": "code",
   "execution_count": null,
   "id": "de13b9aa-cdc5-4a2e-b20e-548eedfa00e2",
   "metadata": {},
   "outputs": [],
   "source": [
    "set1[0] # Error because no index and unordered"
   ]
  },
  {
   "cell_type": "code",
   "execution_count": null,
   "id": "58923540-93bf-4014-8548-feabb58358fa",
   "metadata": {},
   "outputs": [],
   "source": [
    "set1.add(1000)"
   ]
  },
  {
   "cell_type": "code",
   "execution_count": null,
   "id": "c5c55810-2d2b-48f0-9d2a-c882dbfa7e76",
   "metadata": {},
   "outputs": [],
   "source": [
    "print(set1)"
   ]
  },
  {
   "cell_type": "code",
   "execution_count": null,
   "id": "c7e41822-ffc0-40ac-b9cf-69cc537c3a5b",
   "metadata": {},
   "outputs": [],
   "source": [
    "set1.add(10000)"
   ]
  },
  {
   "cell_type": "code",
   "execution_count": null,
   "id": "559e1840-c535-4e5c-9eb0-7a0cac82d628",
   "metadata": {},
   "outputs": [],
   "source": [
    "set1"
   ]
  },
  {
   "cell_type": "code",
   "execution_count": null,
   "id": "32e30e27-7863-4694-86c4-91958f6819c4",
   "metadata": {},
   "outputs": [],
   "source": [
    "# dictionary -> key:value pair, key-> immutable, value -> mutable/immutable"
   ]
  },
  {
   "cell_type": "code",
   "execution_count": null,
   "id": "f19a61bb-8188-435e-9687-c5b7ff860f33",
   "metadata": {},
   "outputs": [],
   "source": [
    "# -> {:}\n",
    "dict1 = {'name':'abd',\n",
    "         'age': 12,\n",
    "         'dept': 'AI'}"
   ]
  },
  {
   "cell_type": "code",
   "execution_count": null,
   "id": "f40c40e2-d144-41a2-8f13-7bf2d54d8a72",
   "metadata": {},
   "outputs": [],
   "source": [
    "print(len(dict1))\n",
    "print(type(dict1))"
   ]
  },
  {
   "cell_type": "code",
   "execution_count": null,
   "id": "195c8745-cb6a-4d67-84b2-16228ac84b31",
   "metadata": {},
   "outputs": [],
   "source": [
    "dict1[0] "
   ]
  },
  {
   "cell_type": "code",
   "execution_count": null,
   "id": "9571772e-358b-456a-83cd-71193637f2e5",
   "metadata": {},
   "outputs": [],
   "source": [
    "# values can be fetched using key\n",
    "dict1['name']"
   ]
  },
  {
   "cell_type": "code",
   "execution_count": null,
   "id": "132b3b9e-c3c5-4c40-9306-c02bd794f686",
   "metadata": {},
   "outputs": [],
   "source": [
    "dict1['age']"
   ]
  },
  {
   "cell_type": "code",
   "execution_count": null,
   "id": "9d4ff627-b6b9-4036-8b43-af0ec5c86578",
   "metadata": {},
   "outputs": [],
   "source": [
    "dict1['dept']"
   ]
  },
  {
   "cell_type": "code",
   "execution_count": null,
   "id": "9f7845f7-d633-414a-b2e8-42fa6346f984",
   "metadata": {},
   "outputs": [],
   "source": [
    "dict1['dept'] = 'DS' # updates the data"
   ]
  },
  {
   "cell_type": "code",
   "execution_count": null,
   "id": "d0e22b0f-2479-4ad1-a19a-7a0c8b14ac0e",
   "metadata": {},
   "outputs": [],
   "source": [
    "dict1"
   ]
  },
  {
   "cell_type": "code",
   "execution_count": null,
   "id": "d88af483-d2ba-4885-88a2-39fe064fa608",
   "metadata": {},
   "outputs": [],
   "source": [
    "# methods of dict"
   ]
  },
  {
   "cell_type": "code",
   "execution_count": null,
   "id": "45d9e67f-76da-490d-a89d-89d17c63eefd",
   "metadata": {},
   "outputs": [],
   "source": [
    "dict1.items()"
   ]
  },
  {
   "cell_type": "code",
   "execution_count": null,
   "id": "cfa95f8c-d3a6-4e38-adea-8b58b67b9e84",
   "metadata": {},
   "outputs": [],
   "source": [
    "dict1.values()"
   ]
  },
  {
   "cell_type": "code",
   "execution_count": null,
   "id": "29e1acdb-95ca-41b8-9e03-6f1fa68fe388",
   "metadata": {},
   "outputs": [],
   "source": [
    "dict1.keys()"
   ]
  },
  {
   "cell_type": "code",
   "execution_count": null,
   "id": "82bc7f86-6730-4fac-ab13-5a0b8b958654",
   "metadata": {},
   "outputs": [],
   "source": [
    "dict1.update({'roll':123})"
   ]
  },
  {
   "cell_type": "code",
   "execution_count": null,
   "id": "8a791374-b458-4b9e-86ac-2c1dd37354cf",
   "metadata": {},
   "outputs": [],
   "source": [
    "dict1"
   ]
  },
  {
   "cell_type": "code",
   "execution_count": null,
   "id": "816c7550-c602-495c-935c-ea7745bf8563",
   "metadata": {},
   "outputs": [],
   "source": [
    "# Flow control -> conditional statements, loops"
   ]
  },
  {
   "cell_type": "code",
   "execution_count": null,
   "id": "a7c27dbd-6dc9-44e8-be7e-717133447f8e",
   "metadata": {},
   "outputs": [],
   "source": [
    "# if, elif, else\n",
    "age = 24\n",
    "if age < 18:  # 24 < 18 -> false\n",
    "    print('minor')  # indentation-> 4 spaces\n",
    "else:\n",
    "    print('adult')"
   ]
  },
  {
   "cell_type": "code",
   "execution_count": null,
   "id": "3cf68377-cdc2-4a95-ab87-6b4f6bfebc91",
   "metadata": {},
   "outputs": [],
   "source": [
    "# if, elif, else\n",
    "age = 10\n",
    "if age < 18:  # 10 < 18 -> True\n",
    "    print('minor')  # \n",
    "else:\n",
    "    print('adult')"
   ]
  },
  {
   "cell_type": "code",
   "execution_count": null,
   "id": "9928c007-fc42-4abd-a492-70e269956c58",
   "metadata": {},
   "outputs": [],
   "source": [
    "# if, elif, else\n",
    "age = 18\n",
    "if age == 18:  # 18 == 18 -> True\n",
    "    print('eighteen')  #\n",
    "elif age < 18:\n",
    "    print('minor')\n",
    "else:\n",
    "    print('adult')"
   ]
  },
  {
   "cell_type": "code",
   "execution_count": null,
   "id": "05865190-3d70-4d6f-a176-94df33ee147d",
   "metadata": {},
   "outputs": [],
   "source": [
    "# if, elif, else\n",
    "age = 10\n",
    "if age == 18:  # 18 == 18 -> True\n",
    "    print('eighteen')  #\n",
    "elif age < 18:\n",
    "    print('minor')\n",
    "else:\n",
    "    print('adult')"
   ]
  },
  {
   "cell_type": "code",
   "execution_count": null,
   "id": "6babf47a-a523-427e-af54-e6eac6d04187",
   "metadata": {},
   "outputs": [],
   "source": [
    "# if, elif, else\n",
    "age = 30\n",
    "if age == 18:   # takes condn\n",
    "    print('eighteen')\n",
    "elif age < 18:  # takes condn\n",
    "    print('minor')\n",
    "else:           # doesnt take condn\n",
    "    print('adult')"
   ]
  },
  {
   "cell_type": "code",
   "execution_count": null,
   "id": "1b580562-d603-46c4-a2c4-467024a3a88b",
   "metadata": {},
   "outputs": [],
   "source": [
    "# for loop -> repeation of some block of code\n",
    "# syntax\n",
    "# for iter in iterable:\n",
    "#     body of for\n",
    "#     body of for\n",
    "#     body of for"
   ]
  },
  {
   "cell_type": "code",
   "execution_count": null,
   "id": "7acb3598-a294-4a6f-92aa-7ab1737b9d90",
   "metadata": {},
   "outputs": [],
   "source": [
    "# iterable -> countable elements(string,list,tuple) with index or without index(dict)"
   ]
  },
  {
   "cell_type": "code",
   "execution_count": null,
   "id": "d534dc1d-748c-4054-a8d8-7da0d7fc78af",
   "metadata": {},
   "outputs": [],
   "source": [
    "for each in 'hello': # each = o\n",
    "    print(each)\n",
    "# loop terminates after the last item."
   ]
  },
  {
   "cell_type": "code",
   "execution_count": null,
   "id": "7eef0894-1789-4a73-a96f-298a0403d0aa",
   "metadata": {},
   "outputs": [],
   "source": [
    "# range() -> use to take a range of values with starting till end+1"
   ]
  },
  {
   "cell_type": "code",
   "execution_count": null,
   "id": "7adc5a80-194b-422f-9473-a049c8fd171c",
   "metadata": {},
   "outputs": [],
   "source": [
    "list(range(1, 10)) # using list() -> converting existing range to list"
   ]
  },
  {
   "cell_type": "code",
   "execution_count": null,
   "id": "04d32660-f284-4a0a-8c40-6ba3f283a9a2",
   "metadata": {},
   "outputs": [],
   "source": [
    "tuple(range(1, 100))"
   ]
  },
  {
   "cell_type": "code",
   "execution_count": null,
   "id": "484bdfc5-7b1d-46f0-b75d-7e0a97ae53d3",
   "metadata": {},
   "outputs": [],
   "source": [
    "for each in range(1, 11):\n",
    "    print(each)"
   ]
  },
  {
   "cell_type": "code",
   "execution_count": null,
   "id": "c36c6a84-a4b5-4fb8-98da-0a7479c22535",
   "metadata": {},
   "outputs": [],
   "source": [
    "for i in range(21, 35):\n",
    "    print(i)"
   ]
  },
  {
   "cell_type": "code",
   "execution_count": null,
   "id": "724f04f7-7462-4089-a315-de035a4c21e7",
   "metadata": {},
   "outputs": [],
   "source": [
    "# print all even values from 1 till 100 using for and if "
   ]
  },
  {
   "cell_type": "code",
   "execution_count": null,
   "id": "afa7d2c9-ca88-4a3d-873b-7de8dac5bbe4",
   "metadata": {},
   "outputs": [],
   "source": [
    "# [2, 4, 6, .... 100]"
   ]
  },
  {
   "cell_type": "code",
   "execution_count": null,
   "id": "d496ec3e-e527-4b96-a6b4-16d8c9f39c68",
   "metadata": {},
   "outputs": [],
   "source": [
    "# for iter in iterable:\n",
    "# .......\n",
    "# .......\n",
    "# .......\n",
    "\n",
    "# if condn:\n",
    "# .....\n",
    "# elif condn:\n",
    "# .....\n",
    "# else:\n",
    "# ...."
   ]
  },
  {
   "cell_type": "code",
   "execution_count": null,
   "id": "3d803e41-0748-4e01-9a51-48b802ecd111",
   "metadata": {},
   "outputs": [],
   "source": [
    "# print all even values from 1 till 100 using for and if \n",
    "for each in range(1, 101):\n",
    "    if each % 2 == 0:  # 2 % 2 -> 0, 0 == 0 -> True\n",
    "        print(each)\n",
    "# if can exist independely "
   ]
  },
  {
   "cell_type": "code",
   "execution_count": null,
   "id": "dcfe783b-a33c-41c1-b576-d17ef81e9879",
   "metadata": {},
   "outputs": [],
   "source": [
    "# while -> works on condition\n",
    "# syntax\n",
    "# while condn:\n",
    "#....\n",
    "#....\n",
    "# note: while condition should be false at certain point of time"
   ]
  },
  {
   "cell_type": "code",
   "execution_count": null,
   "id": "a5586f12-c0aa-4305-a20a-1babdc6fdc69",
   "metadata": {},
   "outputs": [],
   "source": [
    "while True:\n",
    "    print('hello')\n",
    "# this is an infinite loop"
   ]
  },
  {
   "cell_type": "code",
   "execution_count": null,
   "id": "b31b9c24-5be4-4684-83a2-3061bcbfb2b5",
   "metadata": {},
   "outputs": [],
   "source": [
    "number = 0 \n",
    "while number < 10: # 10<10 -> False\n",
    "    print(number)\n",
    "    number += 1  # this line is making the condition false in while condition"
   ]
  },
  {
   "cell_type": "code",
   "execution_count": null,
   "id": "ed6bfcb6-6e24-4e03-8280-e4de09f2c15f",
   "metadata": {},
   "outputs": [],
   "source": [
    "0\n",
    "1\n",
    ".\n",
    ".\n",
    ".\n"
   ]
  }
 ],
 "metadata": {
  "kernelspec": {
   "display_name": "Python 3 (ipykernel)",
   "language": "python",
   "name": "python3"
  },
  "language_info": {
   "codemirror_mode": {
    "name": "ipython",
    "version": 3
   },
   "file_extension": ".py",
   "mimetype": "text/x-python",
   "name": "python",
   "nbconvert_exporter": "python",
   "pygments_lexer": "ipython3",
   "version": "3.12.4"
  }
 },
 "nbformat": 4,
 "nbformat_minor": 5
}
