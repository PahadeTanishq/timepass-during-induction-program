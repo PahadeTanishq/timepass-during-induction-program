{
 "cells": [
  {
   "cell_type": "markdown",
   "id": "8b7a7cc5-4ef4-4de0-9d66-e7700a69f46a",
   "metadata": {},
   "source": [
    "# 13/08/2024"
   ]
  },
  {
   "cell_type": "code",
   "execution_count": 1,
   "id": "f5b67999-a44a-4407-b248-5c5e3932d159",
   "metadata": {},
   "outputs": [],
   "source": [
    "import keyword"
   ]
  },
  {
   "cell_type": "code",
   "execution_count": 3,
   "id": "2f63ba04-5c9f-4eb9-b417-bc5b1bf30d83",
   "metadata": {},
   "outputs": [
    {
     "data": {
      "text/plain": [
       "['False',\n",
       " 'None',\n",
       " 'True',\n",
       " 'and',\n",
       " 'as',\n",
       " 'assert',\n",
       " 'async',\n",
       " 'await',\n",
       " 'break',\n",
       " 'class',\n",
       " 'continue',\n",
       " 'def',\n",
       " 'del',\n",
       " 'elif',\n",
       " 'else',\n",
       " 'except',\n",
       " 'finally',\n",
       " 'for',\n",
       " 'from',\n",
       " 'global',\n",
       " 'if',\n",
       " 'import',\n",
       " 'in',\n",
       " 'is',\n",
       " 'lambda',\n",
       " 'nonlocal',\n",
       " 'not',\n",
       " 'or',\n",
       " 'pass',\n",
       " 'raise',\n",
       " 'return',\n",
       " 'try',\n",
       " 'while',\n",
       " 'with',\n",
       " 'yield']"
      ]
     },
     "execution_count": 3,
     "metadata": {},
     "output_type": "execute_result"
    }
   ],
   "source": [
    "keyword.kwlist"
   ]
  },
  {
   "cell_type": "code",
   "execution_count": 5,
   "id": "145a0dd7-d9a2-493e-9d59-012f0ac70fce",
   "metadata": {},
   "outputs": [
    {
     "data": {
      "text/plain": [
       "35"
      ]
     },
     "execution_count": 5,
     "metadata": {},
     "output_type": "execute_result"
    }
   ],
   "source": [
    "len(keyword.kwlist)"
   ]
  },
  {
   "cell_type": "raw",
   "id": "050f5b61-cc93-4ea7-8667-71929a52386a",
   "metadata": {},
   "source": [
    "# Rules to declare a variable "
   ]
  },
  {
   "cell_type": "raw",
   "id": "d2de446f-78c8-4bba-8b50-e40244e20aea",
   "metadata": {},
   "source": [
    "# It can have numbersc(0-9),letters(a-z),underscore(-)\n",
    "# It can't start with nos(0-9)\n",
    "# It cant have special characters(@#$%^&*)\n",
    "# Reserve words/keywords can't be a variable name "
   ]
  },
  {
   "cell_type": "code",
   "execution_count": null,
   "id": "a16d1ef9-6705-413d-b9fd-db2e950e4873",
   "metadata": {},
   "outputs": [],
   "source": []
  },
  {
   "cell_type": "code",
   "execution_count": null,
   "id": "cd520fea-0bd0-48d8-8d26-428eba27e7cb",
   "metadata": {},
   "outputs": [],
   "source": [
    "x=5 # valid-- int\n",
    "Ram_1a8='hello'#valid--str\n",
    "_ea1= 12.6 #valid--float \n",
    "name_of_year= '76.5' #valid--str\n",
    "y@_1=100 #invalid--\n",
    "1_name = 'hi' #invalid--\n",
    "#abc= 12 #it is a comment \n",
    "if=5 #invalid--error \n",
    "Var_%= 8 # invalid\n",
    "x=90s #invalid  "
   ]
  },
  {
   "cell_type": "code",
   "execution_count": 7,
   "id": "99340c9e-389d-4c94-b386-0992c81bc314",
   "metadata": {},
   "outputs": [],
   "source": [
    "a=6"
   ]
  },
  {
   "cell_type": "code",
   "execution_count": 11,
   "id": "b34b962f-ea44-478a-858a-5461dfd3eb31",
   "metadata": {},
   "outputs": [
    {
     "data": {
      "text/plain": [
       "6"
      ]
     },
     "execution_count": 11,
     "metadata": {},
     "output_type": "execute_result"
    }
   ],
   "source": [
    "a#ede"
   ]
  },
  {
   "cell_type": "code",
   "execution_count": 59,
   "id": "b6a471bd-524c-42cd-a6df-be0cfcd430d6",
   "metadata": {},
   "outputs": [
    {
     "data": {
      "text/plain": [
       "False"
      ]
     },
     "execution_count": 59,
     "metadata": {},
     "output_type": "execute_result"
    }
   ],
   "source": [
    "'hi' == 'bye' #comparision operator"
   ]
  },
  {
   "cell_type": "code",
   "execution_count": 27,
   "id": "22a32cbd-d1f6-4cb4-af69-9d39d5326e6d",
   "metadata": {
    "scrolled": true
   },
   "outputs": [
    {
     "ename": "SyntaxError",
     "evalue": "cannot assign to literal here. Maybe you meant '==' instead of '='? (2494515151.py, line 1)",
     "output_type": "error",
     "traceback": [
      "\u001b[1;36m  Cell \u001b[1;32mIn[27], line 1\u001b[1;36m\u001b[0m\n\u001b[1;33m    '9' = '9'\u001b[0m\n\u001b[1;37m    ^\u001b[0m\n\u001b[1;31mSyntaxError\u001b[0m\u001b[1;31m:\u001b[0m cannot assign to literal here. Maybe you meant '==' instead of '='?\n"
     ]
    }
   ],
   "source": [
    "'9' = '9' "
   ]
  },
  {
   "cell_type": "code",
   "execution_count": 1,
   "id": "197500b8-d558-4100-887e-74ad6512db5a",
   "metadata": {},
   "outputs": [
    {
     "data": {
      "text/plain": [
       "True"
      ]
     },
     "execution_count": 1,
     "metadata": {},
     "output_type": "execute_result"
    }
   ],
   "source": [
    "5!=12"
   ]
  },
  {
   "cell_type": "code",
   "execution_count": 1,
   "id": "4e37c3d5-f708-409e-bc35-aabc21af8f57",
   "metadata": {},
   "outputs": [
    {
     "data": {
      "text/plain": [
       "10"
      ]
     },
     "execution_count": 1,
     "metadata": {},
     "output_type": "execute_result"
    }
   ],
   "source": [
    "6+4"
   ]
  },
  {
   "cell_type": "code",
   "execution_count": 5,
   "id": "c1f7c6d9-8f0c-4713-91bf-edf92dfa6485",
   "metadata": {},
   "outputs": [
    {
     "data": {
      "text/plain": [
       "11"
      ]
     },
     "execution_count": 5,
     "metadata": {},
     "output_type": "execute_result"
    }
   ],
   "source": [
    "x=5\n",
    "y=6\n",
    "x+y=z"
   ]
  },
  {
   "cell_type": "raw",
   "id": "6cd6266b-de15-4af0-9806-70e8dfc8abb6",
   "metadata": {},
   "source": [
    "# x dalkaR agar apan input karke aage run karte hai toh woh int ko str dikhayega "
   ]
  },
  {
   "cell_type": "code",
   "execution_count": 7,
   "id": "7fcb6f20-4f0d-4977-b314-d3e9b5efe5b6",
   "metadata": {},
   "outputs": [
    {
     "name": "stdin",
     "output_type": "stream",
     "text": [
      " hi\n"
     ]
    }
   ],
   "source": [
    "x=input()"
   ]
  },
  {
   "cell_type": "code",
   "execution_count": 11,
   "id": "239d6559-9722-441b-8947-df419ac8616b",
   "metadata": {},
   "outputs": [
    {
     "data": {
      "text/plain": [
       "str"
      ]
     },
     "execution_count": 11,
     "metadata": {},
     "output_type": "execute_result"
    }
   ],
   "source": [
    "type(x)"
   ]
  },
  {
   "cell_type": "code",
   "execution_count": 17,
   "id": "dbbb60bc-b791-4741-82d0-59ab7b71324f",
   "metadata": {},
   "outputs": [],
   "source": [
    "#typecasting-- change the data type -- isko apan forcefully vhange karte hai \n",
    "# by default type jo tha woh string tha but apan ne usko nforcefully int kar diya example given down"
   ]
  },
  {
   "cell_type": "code",
   "execution_count": 19,
   "id": "da4de8f3-65ad-4d7b-bbe0-9f0fb3799f17",
   "metadata": {},
   "outputs": [
    {
     "name": "stdin",
     "output_type": "stream",
     "text": [
      "7 7\n"
     ]
    }
   ],
   "source": [
    "x=input(7)"
   ]
  },
  {
   "cell_type": "code",
   "execution_count": 21,
   "id": "c3c5aec7-2b18-4346-bc8f-9e868f6dcdb1",
   "metadata": {},
   "outputs": [
    {
     "data": {
      "text/plain": [
       "str"
      ]
     },
     "execution_count": 21,
     "metadata": {},
     "output_type": "execute_result"
    }
   ],
   "source": [
    "type(x)"
   ]
  },
  {
   "cell_type": "code",
   "execution_count": 23,
   "id": "13c94b2d-157f-4f3e-b95e-46f94f105b48",
   "metadata": {},
   "outputs": [],
   "source": [
    "#typecasting --"
   ]
  },
  {
   "cell_type": "code",
   "execution_count": 25,
   "id": "7fecf84e-104a-4eea-ab4b-d30e75571896",
   "metadata": {},
   "outputs": [],
   "source": [
    "x=int(7)"
   ]
  },
  {
   "cell_type": "code",
   "execution_count": 27,
   "id": "4eceb756-5d35-41ce-b3f4-434fe5231cbb",
   "metadata": {},
   "outputs": [
    {
     "data": {
      "text/plain": [
       "int"
      ]
     },
     "execution_count": 27,
     "metadata": {},
     "output_type": "execute_result"
    }
   ],
   "source": [
    "type(x)"
   ]
  },
  {
   "cell_type": "code",
   "execution_count": null,
   "id": "c309e2b3-6e81-4791-b74f-afe34b3b5a59",
   "metadata": {},
   "outputs": [],
   "source": []
  },
  {
   "cell_type": "code",
   "execution_count": 29,
   "id": "38f3c49d-7d20-4318-89bf-866aa37e9947",
   "metadata": {},
   "outputs": [],
   "source": [
    "#write a program to add two nos entered from users"
   ]
  },
  {
   "cell_type": "code",
   "execution_count": 33,
   "id": "b2f94a05-9bc4-421c-a789-3775407d95d4",
   "metadata": {},
   "outputs": [
    {
     "name": "stdin",
     "output_type": "stream",
     "text": [
      "enter the first number 10\n",
      "enter the second number 12\n"
     ]
    },
    {
     "name": "stdout",
     "output_type": "stream",
     "text": [
      "addition is 22\n"
     ]
    }
   ],
   "source": [
    "x=int(input('enter the first number'))\n",
    "y=int(input('enter the second number'))\n",
    "print('addition is',x+y)\n"
   ]
  },
  {
   "cell_type": "raw",
   "id": "a1048851-b040-4898-b3db-d8c908c1efd6",
   "metadata": {},
   "source": [
    "#in the above example apan ne int hai woh define kiya hai nhi toh woh string karke aad kar rha tha "
   ]
  },
  {
   "cell_type": "code",
   "execution_count": 35,
   "id": "e869e934-975b-43db-b6b4-4124de2dca34",
   "metadata": {},
   "outputs": [
    {
     "data": {
      "text/plain": [
       "2.0"
      ]
     },
     "execution_count": 35,
     "metadata": {},
     "output_type": "execute_result"
    }
   ],
   "source": [
    "4/2\n"
   ]
  },
  {
   "cell_type": "code",
   "execution_count": 37,
   "id": "27cada24-c332-4e4a-8726-2489380a5593",
   "metadata": {},
   "outputs": [
    {
     "data": {
      "text/plain": [
       "float"
      ]
     },
     "execution_count": 37,
     "metadata": {},
     "output_type": "execute_result"
    }
   ],
   "source": [
    "type(4/2)"
   ]
  },
  {
   "cell_type": "raw",
   "id": "49e8eb76-938c-4b02-9ae2-36502f3902b5",
   "metadata": {},
   "source": [
    "# single division float me dega "
   ]
  },
  {
   "cell_type": "code",
   "execution_count": 45,
   "id": "d0665382-7039-47f3-8ffc-ea1a14a2f8cd",
   "metadata": {},
   "outputs": [
    {
     "data": {
      "text/plain": [
       "2"
      ]
     },
     "execution_count": 45,
     "metadata": {},
     "output_type": "execute_result"
    }
   ],
   "source": [
    "4//2 #floor division "
   ]
  },
  {
   "cell_type": "code",
   "execution_count": 43,
   "id": "631974a0-b907-4b46-9dac-667f8f274dca",
   "metadata": {},
   "outputs": [
    {
     "data": {
      "text/plain": [
       "int"
      ]
     },
     "execution_count": 43,
     "metadata": {},
     "output_type": "execute_result"
    }
   ],
   "source": [
    "type(4//2)"
   ]
  },
  {
   "cell_type": "code",
   "execution_count": 47,
   "id": "76908527-3848-4803-8d97-2fd1e9dec662",
   "metadata": {},
   "outputs": [
    {
     "data": {
      "text/plain": [
       "0"
      ]
     },
     "execution_count": 47,
     "metadata": {},
     "output_type": "execute_result"
    }
   ],
   "source": [
    "4%2 #modolus"
   ]
  },
  {
   "cell_type": "code",
   "execution_count": 71,
   "id": "504d6da4-9dd6-4ce5-9d37-3cbec0e056b1",
   "metadata": {},
   "outputs": [],
   "source": [
    "r=67 #we are assigning any value"
   ]
  },
  {
   "cell_type": "code",
   "execution_count": 69,
   "id": "7d629731-22ac-49aa-98b9-f98e627625cc",
   "metadata": {},
   "outputs": [
    {
     "data": {
      "text/plain": [
       "True"
      ]
     },
     "execution_count": 69,
     "metadata": {},
     "output_type": "execute_result"
    }
   ],
   "source": [
    "r==67 #assignment operator\n"
   ]
  },
  {
   "cell_type": "raw",
   "id": "1fc50961-6add-42b6-8fc1-2718c7f488d7",
   "metadata": {},
   "source": [
    "#stackoverflow me aapko aapke errors ke sahi answers milengew seedha google search kar dena "
   ]
  },
  {
   "cell_type": "raw",
   "id": "e90f4e68-ee1f-483d-ad66-95350d9bd319",
   "metadata": {},
   "source": [
    "# write a program to check if no. is even or odd "
   ]
  },
  {
   "cell_type": "code",
   "execution_count": 77,
   "id": "c68e4356-58f3-4485-a262-35faef981184",
   "metadata": {},
   "outputs": [
    {
     "name": "stdout",
     "output_type": "stream",
     "text": [
      "even\n"
     ]
    }
   ],
   "source": [
    "x=56\n",
    "if x%2==0:\n",
    "    print('even')\n",
    "else:\n",
    "    print('odd')\n",
    "    "
   ]
  },
  {
   "cell_type": "code",
   "execution_count": 106,
   "id": "a2e6a6b2-56bd-4230-a565-5b961ac3728a",
   "metadata": {},
   "outputs": [
    {
     "name": "stdout",
     "output_type": "stream",
     "text": [
      "99  is odd no\n"
     ]
    }
   ],
   "source": [
    "x = 99     # var , user input , typecasting \n",
    "if x%2==0:  #modolus , comparision\n",
    "    print('even') #print, identation\n",
    "else:\n",
    "    print(x,' is odd no')"
   ]
  },
  {
   "cell_type": "raw",
   "id": "8da9f7b7-d2ae-4f6f-9b25-ad5e917c461e",
   "metadata": {},
   "source": [
    "# agar graph plot karna hai toh neeche ka use kareeee--"
   ]
  },
  {
   "cell_type": "code",
   "execution_count": 104,
   "id": "5edda32f-f13a-41d4-a6a0-c23656fe9826",
   "metadata": {},
   "outputs": [],
   "source": [
    "import matplotlib as plt"
   ]
  },
  {
   "cell_type": "code",
   "execution_count": null,
   "id": "4be86cb8-24e5-46c4-b25e-c9e1382a11be",
   "metadata": {},
   "outputs": [],
   "source": [
    "plt. "
   ]
  },
  {
   "cell_type": "code",
   "execution_count": null,
   "id": "2a514ee0-813b-4ba7-ae64-30e919787501",
   "metadata": {},
   "outputs": [],
   "source": [
    "# var , user input , typecasting \n",
    "# modolus , comparision\n",
    "# print, identation"
   ]
  },
  {
   "cell_type": "code",
   "execution_count": null,
   "id": "b787c97a-34b9-4a92-9d57-1b5435f076b5",
   "metadata": {},
   "outputs": [],
   "source": []
  }
 ],
 "metadata": {
  "kernelspec": {
   "display_name": "Python 3 (ipykernel)",
   "language": "python",
   "name": "python3"
  },
  "language_info": {
   "codemirror_mode": {
    "name": "ipython",
    "version": 3
   },
   "file_extension": ".py",
   "mimetype": "text/x-python",
   "name": "python",
   "nbconvert_exporter": "python",
   "pygments_lexer": "ipython3",
   "version": "3.12.4"
  }
 },
 "nbformat": 4,
 "nbformat_minor": 5
}
