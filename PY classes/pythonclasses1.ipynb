{
 "cells": [
  {
   "cell_type": "markdown",
   "id": "3017b506-a853-408d-be59-35a9643a90fe",
   "metadata": {},
   "source": [
    "# 12/08/2024"
   ]
  },
  {
   "cell_type": "code",
   "execution_count": null,
   "id": "dc60ed48-ec61-4839-ae8d-4fdd75406b46",
   "metadata": {},
   "outputs": [],
   "source": [
    "# this screen is called cell"
   ]
  },
  {
   "cell_type": "code",
   "execution_count": 3,
   "id": "4c238477-388b-4e80-b55d-1148de08a5cd",
   "metadata": {},
   "outputs": [
    {
     "name": "stdout",
     "output_type": "stream",
     "text": [
      "Hello\n"
     ]
    }
   ],
   "source": [
    "print(\"Hello\")"
   ]
  },
  {
   "cell_type": "markdown",
   "id": "ade9b054-d2b6-4d41-af9b-10739b896c62",
   "metadata": {},
   "source": [
    "# Basic features :- "
   ]
  },
  {
   "cell_type": "raw",
   "id": "6e7fb511-e6ad-4d5b-b2b8-0131385ae878",
   "metadata": {
    "jp-MarkdownHeadingCollapsed": true
   },
   "source": [
    "# easy to use ,\n",
    "# simple syntax ,\n",
    "# high level lang - english like ,\n",
    "# open source ,\n",
    "# platform independent ,\n",
    "# ctrl+A - select all lines , ctrl+/ , "
   ]
  },
  {
   "cell_type": "markdown",
   "id": "56a89f19-351a-4905-b194-0fee94770376",
   "metadata": {},
   "source": [
    "# Advanced features :- "
   ]
  },
  {
   "cell_type": "raw",
   "id": "7344aed1-e9de-4d0a-be01-03ca12cabb7a",
   "metadata": {},
   "source": [
    "# Dynamically typed language - no need to define the data type (interpreter khud se samaj jata hai )\n",
    "# Interpreted - line by line execution of program .\n",
    "# Rich library support :- foe every work we are having library and inbuilt methods eg. purchasing of books can be gone with l9brary section . eg.2 purchasing grocery from dmart instead of purchasing from shops \n",
    "# identation :- by default 4 spaces aligned , no curly braces or semicolon "
   ]
  },
  {
   "cell_type": "raw",
   "id": "6fb0010d-b3f8-47af-b1dd-dfb5c8b163e9",
   "metadata": {},
   "source": [
    "# numpy-- numerical calculations \n",
    "# pandas -- processing ,analysis cleaning.\n",
    "# matplotlib--graph/plot visualisation\n",
    "# seaborn -- advance matplotlib -- extra graph and plots\n",
    "# plotly&cufflink -- 3d graphs and more \n",
    "# EDA -- exploratory data analysis\n",
    "\n",
    "# sckit- learn ML\n",
    "# Tensorflow,keras--Deeplearning\n",
    "\n"
   ]
  },
  {
   "cell_type": "raw",
   "id": "aef06c03-7937-4545-9056-7411242f95b4",
   "metadata": {},
   "source": [
    "# int :- eg 1,2,3,3,4 etc \n",
    "# float :- eg 4.5 , 6.9 \n",
    "# str :- 'hi' , 'bt' "
   ]
  },
  {
   "cell_type": "code",
   "execution_count": 10,
   "id": "f6c029da-5630-44f6-a3bd-d33fcce29726",
   "metadata": {},
   "outputs": [],
   "source": [
    "x = 4\n",
    "y = 5\n",
    "#x+y"
   ]
  },
  {
   "cell_type": "code",
   "execution_count": 12,
   "id": "75e1fcbc-05a4-4872-a8d0-d33b143f49e6",
   "metadata": {},
   "outputs": [
    {
     "data": {
      "text/plain": [
       "int"
      ]
     },
     "execution_count": 12,
     "metadata": {},
     "output_type": "execute_result"
    }
   ],
   "source": [
    "type(x)"
   ]
  },
  {
   "cell_type": "raw",
   "id": "d163b18d-d7ff-4063-8bef-f90c3614d8ed",
   "metadata": {},
   "source": [
    "# integer ko integer se hi add hoga \n",
    "# integer aur float add nhi hoga \n"
   ]
  },
  {
   "cell_type": "code",
   "execution_count": 14,
   "id": "073bfc0c-4891-4a6c-9586-039250c22483",
   "metadata": {},
   "outputs": [
    {
     "ename": "TypeError",
     "evalue": "can only concatenate str (not \"int\") to str",
     "output_type": "error",
     "traceback": [
      "\u001b[1;31m---------------------------------------------------------------------------\u001b[0m",
      "\u001b[1;31mTypeError\u001b[0m                                 Traceback (most recent call last)",
      "Cell \u001b[1;32mIn[14], line 3\u001b[0m\n\u001b[0;32m      1\u001b[0m x \u001b[38;5;241m=\u001b[39m \u001b[38;5;124m\"\u001b[39m\u001b[38;5;124m5.9\u001b[39m\u001b[38;5;124m\"\u001b[39m\n\u001b[0;32m      2\u001b[0m y \u001b[38;5;241m=\u001b[39m \u001b[38;5;241m12\u001b[39m \n\u001b[1;32m----> 3\u001b[0m x\u001b[38;5;241m+\u001b[39my\n",
      "\u001b[1;31mTypeError\u001b[0m: can only concatenate str (not \"int\") to str"
     ]
    }
   ],
   "source": [
    "x = \"5.9\"\n",
    "y = 12 \n",
    "x+y"
   ]
  },
  {
   "cell_type": "code",
   "execution_count": 16,
   "id": "66418ba9-7974-4a53-aa3f-e4ea3cc6c964",
   "metadata": {},
   "outputs": [
    {
     "data": {
      "text/plain": [
       "'5.9'"
      ]
     },
     "execution_count": 16,
     "metadata": {},
     "output_type": "execute_result"
    }
   ],
   "source": [
    "x "
   ]
  },
  {
   "cell_type": "code",
   "execution_count": 18,
   "id": "dd78f067-7ba1-40b9-84a8-165d301a3529",
   "metadata": {},
   "outputs": [
    {
     "name": "stdout",
     "output_type": "stream",
     "text": [
      "12\n"
     ]
    }
   ],
   "source": [
    "print(y)"
   ]
  },
  {
   "cell_type": "code",
   "execution_count": 20,
   "id": "aeb5ead2-5b48-4455-83b9-4071200b732f",
   "metadata": {},
   "outputs": [
    {
     "data": {
      "text/plain": [
       "36"
      ]
     },
     "execution_count": 20,
     "metadata": {},
     "output_type": "execute_result"
    }
   ],
   "source": [
    "y*3"
   ]
  },
  {
   "cell_type": "code",
   "execution_count": 1,
   "id": "7c39d8d4-8c3f-468e-986d-8dca3085bbe1",
   "metadata": {},
   "outputs": [],
   "source": [
    "import numpy as np"
   ]
  },
  {
   "cell_type": "code",
   "execution_count": 5,
   "id": "78fd5d61-9613-4751-bf23-46865ae89d61",
   "metadata": {},
   "outputs": [],
   "source": [
    "x=(22,23,23,34,56,67,78)"
   ]
  },
  {
   "cell_type": "code",
   "execution_count": 7,
   "id": "596fa385-3095-484c-9940-ba0568e7d398",
   "metadata": {},
   "outputs": [
    {
     "data": {
      "text/plain": [
       "43.285714285714285"
      ]
     },
     "execution_count": 7,
     "metadata": {},
     "output_type": "execute_result"
    }
   ],
   "source": [
    "np.mean(x)"
   ]
  },
  {
   "cell_type": "raw",
   "id": "3d74305f-0451-44e1-9d2e-ef176a2a4d96",
   "metadata": {},
   "source": [
    "# jab apan pandas ya np use karte tab apne ko dhyaan dena hai ki woh thik se define rahe \n",
    "# Reason of error jo sir ko poocha tha woh isliye tha kyoki apan ne x thik se define na karta hue apan np ka result expect kar rhe the ."
   ]
  },
  {
   "cell_type": "raw",
   "id": "2f5835cd-2028-4769-819b-cad2a98865bb",
   "metadata": {},
   "source": [
    "# example 1 and 2 written down :-"
   ]
  },
  {
   "cell_type": "code",
   "execution_count": 11,
   "id": "c64670fa-c9c4-48c4-9d74-49e34ef9e17f",
   "metadata": {},
   "outputs": [],
   "source": [
    "y=(23,34,56,78,90)"
   ]
  },
  {
   "cell_type": "code",
   "execution_count": null,
   "id": "7cc641b3-7b4a-4e7e-8339-b515016bb60e",
   "metadata": {},
   "outputs": [],
   "source": [
    "# numpy pandas ye sab library hai "
   ]
  },
  {
   "cell_type": "code",
   "execution_count": 14,
   "id": "54da9d68-41fd-4c54-97bd-67b501e361db",
   "metadata": {},
   "outputs": [],
   "source": [
    "import numpy as np"
   ]
  },
  {
   "cell_type": "code",
   "execution_count": 16,
   "id": "a3ae2650-2cab-4b9c-9284-68eef9caf34b",
   "metadata": {},
   "outputs": [
    {
     "data": {
      "text/plain": [
       "56.0"
      ]
     },
     "execution_count": 16,
     "metadata": {},
     "output_type": "execute_result"
    }
   ],
   "source": [
    "np.median(y)"
   ]
  },
  {
   "cell_type": "code",
   "execution_count": 34,
   "id": "84c1a9e9-0b96-4e18-8aec-8982bc5171ff",
   "metadata": {},
   "outputs": [],
   "source": [
    "import numpy as np"
   ]
  },
  {
   "cell_type": "code",
   "execution_count": 38,
   "id": "5d63ba9d-178d-4e76-a4ef-6cc566a2cd5d",
   "metadata": {},
   "outputs": [],
   "source": [
    "x=(1,2,3,4,5,6,7,8,9)"
   ]
  },
  {
   "cell_type": "code",
   "execution_count": 43,
   "id": "db73904b-db3a-4cd5-98b9-e0799a097a30",
   "metadata": {},
   "outputs": [
    {
     "data": {
      "text/plain": [
       "5.0"
      ]
     },
     "execution_count": 43,
     "metadata": {},
     "output_type": "execute_result"
    }
   ],
   "source": [
    "np.mean(x)"
   ]
  },
  {
   "cell_type": "code",
   "execution_count": 1,
   "id": "8624417f-0ba0-4679-8dcf-f243202d4970",
   "metadata": {},
   "outputs": [],
   "source": [
    "x=(1,2,3,4,5,6,7,8,9)"
   ]
  },
  {
   "cell_type": "code",
   "execution_count": 3,
   "id": "72e0d992-fd0d-4ec2-a051-ff5655e05f79",
   "metadata": {},
   "outputs": [],
   "source": [
    "import numpy as np"
   ]
  },
  {
   "cell_type": "code",
   "execution_count": 5,
   "id": "ffc79b85-e0cc-4b42-b2c9-9a6938ee4b55",
   "metadata": {},
   "outputs": [
    {
     "data": {
      "text/plain": [
       "5.0"
      ]
     },
     "execution_count": 5,
     "metadata": {},
     "output_type": "execute_result"
    }
   ],
   "source": [
    "np.mean(x)"
   ]
  },
  {
   "cell_type": "raw",
   "id": "f658217b-da5a-4c27-b3e4-eda5eea9ce70",
   "metadata": {},
   "source": [
    "# how to copy whole data form website and paste into the jupyter notebook "
   ]
  },
  {
   "cell_type": "code",
   "execution_count": null,
   "id": "ca4750a4-7785-4185-878d-d62575f2ba6f",
   "metadata": {},
   "outputs": [],
   "source": [
    "it"
   ]
  }
 ],
 "metadata": {
  "kernelspec": {
   "display_name": "Python 3 (ipykernel)",
   "language": "python",
   "name": "python3"
  },
  "language_info": {
   "codemirror_mode": {
    "name": "ipython",
    "version": 3
   },
   "file_extension": ".py",
   "mimetype": "text/x-python",
   "name": "python",
   "nbconvert_exporter": "python",
   "pygments_lexer": "ipython3",
   "version": "3.12.4"
  }
 },
 "nbformat": 4,
 "nbformat_minor": 5
}
